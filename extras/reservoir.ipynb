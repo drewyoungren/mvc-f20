{
 "cells": [
  {
   "cell_type": "markdown",
   "metadata": {},
   "source": [
    "# Jackie Onassis Reservoir Loop\n",
    "\n",
    "We measure the surface area of the Jackie Onassis reservoir by taking a stroll around the running track that circumscribes it. "
   ]
  },
  {
   "cell_type": "markdown",
   "metadata": {},
   "source": [
    "## Get the Data\n",
    "\n",
    "Any number of fitness apps on smartphones and watches can track one's GPS coordinates. A common format for storing such information for routes is the `.gpx` format. Popular services like Strava can export `.gpx` files."
   ]
  },
  {
   "cell_type": "code",
   "execution_count": 1,
   "metadata": {},
   "outputs": [],
   "source": [
    "import sys\n",
    "try:\n",
    "    import gpxpy\n",
    "except ModuleNotFoundError:\n",
    "    !conda install --yes --prefix {sys.prefix} gpxpy\n",
    "    import gpxpy"
   ]
  },
  {
   "cell_type": "code",
   "execution_count": 2,
   "metadata": {},
   "outputs": [],
   "source": [
    "with open(\"ReservoirLoop.gpx\") as fin:\n",
    "    gpx = gpxpy.parse(fin)"
   ]
  },
  {
   "cell_type": "code",
   "execution_count": 3,
   "metadata": {},
   "outputs": [],
   "source": [
    "pts = gpx.tracks[0].segments[0].points   # get the points of the route\n",
    "pts.append(pts[0])                       # close the loop"
   ]
  },
  {
   "cell_type": "code",
   "execution_count": 4,
   "metadata": {},
   "outputs": [
    {
     "name": "stdout",
     "output_type": "stream",
     "text": [
      "40.78866 -73.96194000000001 37.27\n",
      "40.78846 -73.96217 37.26\n",
      "40.78839000000001 -73.96231 37.26\n",
      "40.78833 -73.96252000000001 37.19\n",
      "40.78830000000001 -73.9628 37.24\n",
      "40.78833 -73.96306000000001 37.28\n",
      "40.78833 -73.96324 37.28\n",
      "40.788270000000004 -73.96400000000001 37.1\n",
      "40.78829 -73.96424 37.160000000000004\n",
      "40.788340000000005 -73.96459 37.160000000000004\n"
     ]
    }
   ],
   "source": [
    "for pt in pts[:10]:\n",
    "    print(pt.latitude, pt.longitude, pt.elevation)"
   ]
  },
  {
   "cell_type": "markdown",
   "metadata": {},
   "source": [
    "## Visualize the Data\n",
    "\n",
    "[Leaflet](https://leafletjs.com/) is an open-source library for interactive maps. `ipyleaflet` is a Python implementation for Jupyter"
   ]
  },
  {
   "cell_type": "code",
   "execution_count": 5,
   "metadata": {},
   "outputs": [],
   "source": [
    "from ipyleaflet import Map,Marker,Polyline,ScaleControl"
   ]
  },
  {
   "cell_type": "code",
   "execution_count": 6,
   "metadata": {},
   "outputs": [
    {
     "data": {
      "application/vnd.jupyter.widget-view+json": {
       "model_id": "0f894369287942d8a335e6d736cead8f",
       "version_major": 2,
       "version_minor": 0
      },
      "text/plain": [
       "Map(center=[40.785805865544326, -73.96234937449582], controls=(ZoomControl(options=['position', 'zoom_in_text'…"
      ]
     },
     "metadata": {},
     "output_type": "display_data"
    }
   ],
   "source": [
    "JKOR = (40.785805865544326, -73.96234937449582) # lat/long of Jaquelyn Kennedy Onassis Reservoir\n",
    "m = Map(center=JKOR,zoom=15)\n",
    "m.add_control(ScaleControl(position='bottomleft'))\n",
    "m"
   ]
  },
  {
   "cell_type": "code",
   "execution_count": 7,
   "metadata": {},
   "outputs": [],
   "source": [
    "path = Polyline(locations=[(p.latitude,p.longitude) for p in pts],color='green',fill=True)\n",
    "m.add_layer(path)"
   ]
  },
  {
   "cell_type": "code",
   "execution_count": 8,
   "metadata": {},
   "outputs": [],
   "source": [
    "# if needed\n",
    "# m.remove_layer(path) "
   ]
  },
  {
   "cell_type": "markdown",
   "metadata": {},
   "source": [
    "<script> MathJax.typeset() </script>"
   ]
  },
  {
   "cell_type": "code",
   "execution_count": null,
   "metadata": {},
   "outputs": [],
   "source": []
  },
  {
   "cell_type": "markdown",
   "metadata": {},
   "source": [
    "## $xy$-coordinates\n",
    "\n",
    "Geodata tends to be stored in latitude/longitude tuples. We need to convert to a meaningful coordinates with regard to length (like meters) if we want to compute area. Bad news: the earth is round. Good news: the earth is pretty flat. Better news still: for most anything you want to calculate, there's a [page on the (German) internet](https://rechneronline.de/earth-radius/)."
   ]
  },
  {
   "cell_type": "code",
   "execution_count": 9,
   "metadata": {},
   "outputs": [],
   "source": [
    "import numpy as np\n",
    "from numpy import sin, cos, pi"
   ]
  },
  {
   "cell_type": "code",
   "execution_count": 10,
   "metadata": {},
   "outputs": [],
   "source": [
    "lat_0,long_0 = JKOR\n",
    "deg = pi / 180             # degrees to radians\n",
    "rho = 6369092              # Earth radius in meters at Central Park\n",
    "phi = (90 - lat_0) * deg    # regular spherical coords\n",
    "theta = long_0 * deg\n",
    "\n",
    "def ll2xy(lat,long):\n",
    "    \"\"\"Converts latitude/longitude to meters east/north of Jackie O Reservoir. \n",
    "    WARNING: only works locally!\"\"\"\n",
    "    dlat, dlong = lat - lat_0, long - long_0\n",
    "    return rho * sin(phi) * dlong * deg, rho * dlat * deg"
   ]
  },
  {
   "cell_type": "code",
   "execution_count": 11,
   "metadata": {},
   "outputs": [
    {
     "data": {
      "text/plain": [
       "(0.0, 0.0)"
      ]
     },
     "execution_count": 11,
     "metadata": {},
     "output_type": "execute_result"
    }
   ],
   "source": [
    "ll2xy(*JKOR)   # Check the origin"
   ]
  },
  {
   "cell_type": "code",
   "execution_count": 12,
   "metadata": {},
   "outputs": [
    {
     "data": {
      "image/png": "[encoded data removed]",
      "text/plain": [
       "<Figure size 432x288 with 1 Axes>"
      ]
     },
     "metadata": {
      "needs_background": "light"
     },
     "output_type": "display_data"
    }
   ],
   "source": [
    "import matplotlib.pyplot as plt\n",
    "\n",
    "X, Y = np.column_stack([ll2xy(pt.latitude, pt.longitude) for pt in pts])\n",
    "plt.plot(X,Y)\n",
    "plt.fill(X,Y,'b',alpha=.3)\n",
    "\n",
    "# axes\n",
    "plt.plot([-500,500],[0,0],'k')\n",
    "plt.plot([0,0],[-500,500],'k')\n",
    "plt.grid(True)\n",
    "plt.gca().set_aspect('equal')\n"
   ]
  },
  {
   "cell_type": "markdown",
   "metadata": {},
   "source": [
    "## Line integrals"
   ]
  },
  {
   "cell_type": "markdown",
   "metadata": {},
   "source": [
    "Consider a line segment $\\mathcal L$ from $(a,b)$ to $(c,d)$. It can be parametrized by $$\\mathbf r(t) = \\langle a + (c - a)t, b + (d - b)t \\rangle$$ for $0 \\leq t \\leq 1$. "
   ]
  },
  {
   "cell_type": "markdown",
   "metadata": {},
   "source": [
    "### Arc length\n",
    "\n",
    "First let's see how far it is around the reservoir. "
   ]
  },
  {
   "cell_type": "markdown",
   "metadata": {},
   "source": [
    "Arc length is of course $\\int_C ds$, so we compute for one segment $$\\int_{\\mathcal L} ds = \\int_0^1 \\sqrt{(c-a)^2 + (d-b)^2}\\,dt$$ which just gives us back the distance formula."
   ]
  },
  {
   "cell_type": "code",
   "execution_count": 13,
   "metadata": {},
   "outputs": [],
   "source": [
    "def ds(pt1, pt2):\n",
    "    a, b = pt1\n",
    "    c, d = pt2\n",
    "    return np.sqrt((c - a)**2 + (d - b)**2)"
   ]
  },
  {
   "cell_type": "code",
   "execution_count": 14,
   "metadata": {},
   "outputs": [
    {
     "data": {
      "text/plain": [
       "2535.9861417130323"
      ]
     },
     "execution_count": 14,
     "metadata": {},
     "output_type": "execute_result"
    }
   ],
   "source": [
    "arclength = 0\n",
    "for i in range(len(pts) - 1):\n",
    "    p, q = pts[i], pts[i + 1]\n",
    "    arclength += ds(ll2xy(p.latitude, p.longitude), ll2xy(q.latitude, q.longitude))\n",
    "\n",
    "arclength # length in meters"
   ]
  },
  {
   "cell_type": "code",
   "execution_count": 15,
   "metadata": {},
   "outputs": [
    {
     "data": {
      "text/plain": [
       "1.5761256318912569"
      ]
     },
     "execution_count": 15,
     "metadata": {},
     "output_type": "execute_result"
    }
   ],
   "source": [
    "arclength / 1609 # Give length in miles"
   ]
  },
  {
   "cell_type": "markdown",
   "metadata": {},
   "source": [
    "### Area\n",
    "\n",
    "Green's theorem shows we can compute area of a region $D$ with positively-oriented boundary $\\partial D$ by"
   ]
  },
  {
   "cell_type": "markdown",
   "metadata": {},
   "source": [
    "$$\\text{Area} = \\iint_D dA = \\iint_D 1\\,dx\\,dy = \\int_{\\partial D} x\\,dy$$ On the line segment $\\mathcal L$, we compute $$\\int_{\\mathcal L} x\\,dy = \\int_0^1 (a + (c - a)t) (d-b) \\,dt = \\frac{a + c}{2}(d - b)$$ or \"the average of the $x$'s times the change in $y$\" which also makes sense. "
   ]
  },
  {
   "cell_type": "code",
   "execution_count": 16,
   "metadata": {},
   "outputs": [],
   "source": [
    "def xdy(pt1, pt2):\n",
    "    a, b = pt1\n",
    "    c, d = pt2\n",
    "    return (a + c)*(d - b)/2"
   ]
  },
  {
   "cell_type": "code",
   "execution_count": 24,
   "metadata": {},
   "outputs": [
    {
     "data": {
      "text/plain": [
       "398978.4871952965"
      ]
     },
     "execution_count": 24,
     "metadata": {},
     "output_type": "execute_result"
    }
   ],
   "source": [
    "area = 0\n",
    "a = []\n",
    "for i in range(len(pts) - 1):\n",
    "    p, q = pts[i], pts[i + 1]\n",
    "    area += xdy(ll2xy(p.latitude, p.longitude), ll2xy(q.latitude, q.longitude))\n",
    "    a.append(area)\n",
    "    \n",
    "area # area in sq. m."
   ]
  },
  {
   "cell_type": "code",
   "execution_count": 18,
   "metadata": {},
   "outputs": [
    {
     "data": {
      "text/plain": [
       "98.58964411798196"
      ]
     },
     "execution_count": 18,
     "metadata": {},
     "output_type": "execute_result"
    }
   ],
   "source": [
    "area / 4046.86 # area in acres"
   ]
  },
  {
   "cell_type": "markdown",
   "metadata": {},
   "source": [
    "## Make your own route\n",
    "\n",
    "We can add a marker to the map, move it around, and read the location to make a new path. Try answering the question, \"How big is the Morningside Heights Campus?\""
   ]
  },
  {
   "cell_type": "code",
   "execution_count": 19,
   "metadata": {},
   "outputs": [
    {
     "data": {
      "application/vnd.jupyter.widget-view+json": {
       "model_id": "0f894369287942d8a335e6d736cead8f",
       "version_major": 2,
       "version_minor": 0
      },
      "text/plain": [
       "Map(center=[40.785805865544326, -73.96234937449582], controls=(ZoomControl(options=['position', 'zoom_in_text'…"
      ]
     },
     "metadata": {},
     "output_type": "display_data"
    }
   ],
   "source": [
    "mkr = Marker(location=JKOR)\n",
    "m.add_layer(mkr)\n",
    "m"
   ]
  },
  {
   "cell_type": "code",
   "execution_count": 25,
   "metadata": {},
   "outputs": [],
   "source": [
    "campus_pts = []    # initiate list of coordinates"
   ]
  },
  {
   "cell_type": "code",
   "execution_count": 28,
   "metadata": {},
   "outputs": [],
   "source": [
    "campus_pts.append(mkr.location)   # execute every time you want to add a point to the list"
   ]
  },
  {
   "cell_type": "code",
   "execution_count": 30,
   "metadata": {},
   "outputs": [],
   "source": [
    "campus_pts.append(campus_pts[0])   # close the loop"
   ]
  },
  {
   "cell_type": "code",
   "execution_count": null,
   "metadata": {},
   "outputs": [],
   "source": []
  }
 ],
 "metadata": {
  "kernelspec": {
   "display_name": "Python 3",
   "language": "python",
   "name": "python3"
  },
  "language_info": {
   "codemirror_mode": {
    "name": "ipython",
    "version": 3
   },
   "file_extension": ".py",
   "mimetype": "text/x-python",
   "name": "python",
   "nbconvert_exporter": "python",
   "pygments_lexer": "ipython3",
   "version": "3.7.6"
  },
  "widgets": {
   "application/vnd.jupyter.widget-state+json": {
    "state": {
     "0756a23c84064187abb36e9f9f5b2533": {
      "model_module": "jupyter-leaflet",
      "model_module_version": "^0.13.0",
      "model_name": "LeafletMapStyleModel",
      "state": {
       "_model_module_version": "^0.13.0"
      }
     },
     "0f894369287942d8a335e6d736cead8f": {
      "model_module": "jupyter-leaflet",
      "model_module_version": "^0.13.0",
      "model_name": "LeafletMapModel",
      "state": {
       "_model_module_version": "^0.13.0",
       "_view_module_version": "^0.13.0",
       "center": [
        40.785805865544326,
        -73.96234937449582
       ],
       "controls": [
        "IPY_MODEL_88a15975e7784bd9bf1e60eb3574799b",
        "IPY_MODEL_fbca4673980943d7a6620ee71f86debc",
        "IPY_MODEL_1ef688e1d07344ffabbc41c3e1f15941"
       ],
       "default_style": "IPY_MODEL_0756a23c84064187abb36e9f9f5b2533",
       "dragging_style": "IPY_MODEL_b000ddc85afd408e84792718fbe0d3d9",
       "east": -73.93296718597414,
       "fullscreen": false,
       "interpolation": "bilinear",
       "layers": [
        "IPY_MODEL_4310ea74dac047788a65d9a47cec45a1",
        "IPY_MODEL_b7c61ff2c1e94edaab245d2f1114074d",
        "IPY_MODEL_a2221ed16d714b679e4605a3e4d90161"
       ],
       "layout": "IPY_MODEL_731c23b76b344a39a6746d2419710a48",
       "modisdate": "yesterday",
       "north": 40.79230402360135,
       "options": [
        "bounce_at_zoom_limits",
        "box_zoom",
        "center",
        "close_popup_on_click",
        "double_click_zoom",
        "dragging",
        "fullscreen",
        "inertia",
        "inertia_deceleration",
        "inertia_max_speed",
        "interpolation",
        "keyboard",
        "keyboard_pan_offset",
        "keyboard_zoom_offset",
        "max_zoom",
        "min_zoom",
        "scroll_wheel_zoom",
        "tap",
        "tap_tolerance",
        "touch_zoom",
        "world_copy_jump",
        "zoom",
        "zoom_animation_threshold",
        "zoom_start"
       ],
       "south": 40.77930656383335,
       "style": "IPY_MODEL_2c1b46b61226469c8f43927d3b43b543",
       "west": -73.99171829223634,
       "window_url": "http://localhost:8888/lab",
       "zoom": 15
      }
     },
     "1ef688e1d07344ffabbc41c3e1f15941": {
      "model_module": "jupyter-leaflet",
      "model_module_version": "^0.13.0",
      "model_name": "LeafletScaleControlModel",
      "state": {
       "_model_module_version": "^0.13.0",
       "_view_module_version": "^0.13.0",
       "imperial": true,
       "max_width": 100,
       "metric": true,
       "options": [
        "imperial",
        "max_width",
        "metric",
        "position",
        "update_when_idle"
       ],
       "position": "bottomleft",
       "update_when_idle": false
      }
     },
     "2c1b46b61226469c8f43927d3b43b543": {
      "model_module": "jupyter-leaflet",
      "model_module_version": "^0.13.0",
      "model_name": "LeafletMapStyleModel",
      "state": {
       "_model_module_version": "^0.13.0"
      }
     },
     "4310ea74dac047788a65d9a47cec45a1": {
      "model_module": "jupyter-leaflet",
      "model_module_version": "^0.13.0",
      "model_name": "LeafletTileLayerModel",
      "state": {
       "_model_module_version": "^0.13.0",
       "_view_module_version": "^0.13.0",
       "base": true,
       "max_native_zoom": 18,
       "max_zoom": 19,
       "min_native_zoom": 0,
       "min_zoom": 1,
       "options": [
        "attribution",
        "detect_retina",
        "max_native_zoom",
        "max_zoom",
        "min_native_zoom",
        "min_zoom",
        "no_wrap",
        "tile_size",
        "tms"
       ]
      }
     },
     "731c23b76b344a39a6746d2419710a48": {
      "model_module": "@jupyter-widgets/base",
      "model_module_version": "1.2.0",
      "model_name": "LayoutModel",
      "state": {}
     },
     "88a15975e7784bd9bf1e60eb3574799b": {
      "model_module": "jupyter-leaflet",
      "model_module_version": "^0.13.0",
      "model_name": "LeafletZoomControlModel",
      "state": {
       "_model_module_version": "^0.13.0",
       "_view_module_version": "^0.13.0",
       "options": [
        "position",
        "zoom_in_text",
        "zoom_in_title",
        "zoom_out_text",
        "zoom_out_title"
       ]
      }
     },
     "a2221ed16d714b679e4605a3e4d90161": {
      "model_module": "jupyter-leaflet",
      "model_module_version": "^0.13.0",
      "model_name": "LeafletMarkerModel",
      "state": {
       "_model_module_version": "^0.13.0",
       "_view_module_version": "^0.13.0",
       "location": [
        40.78209259974456,
        -73.9716082965606
       ],
       "options": [
        "alt",
        "draggable",
        "keyboard",
        "rise_offset",
        "rise_on_hover",
        "rotation_angle",
        "rotation_origin",
        "title",
        "z_index_offset"
       ]
      }
     },
     "b000ddc85afd408e84792718fbe0d3d9": {
      "model_module": "jupyter-leaflet",
      "model_module_version": "^0.13.0",
      "model_name": "LeafletMapStyleModel",
      "state": {
       "_model_module_version": "^0.13.0",
       "cursor": "move"
      }
     },
     "b7c61ff2c1e94edaab245d2f1114074d": {
      "model_module": "jupyter-leaflet",
      "model_module_version": "^0.13.0",
      "model_name": "LeafletPolylineModel",
      "state": {
       "_model_module_version": "^0.13.0",
       "_view_module_version": "^0.13.0",
       "color": "green",
       "draggable": false,
       "locations": [
        [
         40.78866,
         -73.96194000000001
        ],
        [
         40.78846,
         -73.96217
        ],
        [
         40.78839000000001,
         -73.96231
        ],
        [
         40.78833,
         -73.96252000000001
        ],
        [
         40.78830000000001,
         -73.9628
        ],
        [
         40.78833,
         -73.96306000000001
        ],
        [
         40.78833,
         -73.96324
        ],
        [
         40.788270000000004,
         -73.96400000000001
        ],
        [
         40.78829,
         -73.96424
        ],
        [
         40.788340000000005,
         -73.96459
        ],
        [
         40.788340000000005,
         -73.96485000000001
        ],
        [
         40.78830000000001,
         -73.96513
        ],
        [
         40.788250000000005,
         -73.96531
        ],
        [
         40.788090000000004,
         -73.96568
        ],
        [
         40.787980000000005,
         -73.96584
        ],
        [
         40.78774000000001,
         -73.96607
        ],
        [
         40.787530000000004,
         -73.9662
        ],
        [
         40.787400000000005,
         -73.96625
        ],
        [
         40.786713333526514,
         -73.96641333671988
        ],
        [
         40.78602666682273,
         -73.966576670062
        ],
        [
         40.785340000000005,
         -73.96674
        ],
        [
         40.785120000000006,
         -73.96671
        ],
        [
         40.78495,
         -73.9666
        ],
        [
         40.78482,
         -73.96646000000001
        ],
        [
         40.784580000000005,
         -73.96610000000001
        ],
        [
         40.7843,
         -73.96554
        ],
        [
         40.78414,
         -73.96509
        ],
        [
         40.78398000000001,
         -73.9645
        ],
        [
         40.78392,
         -73.96432
        ],
        [
         40.78374,
         -73.96395000000001
        ],
        [
         40.78356,
         -73.96369
        ],
        [
         40.78338,
         -73.96348
        ],
        [
         40.783150000000006,
         -73.9633
        ],
        [
         40.78302,
         -73.96324
        ],
        [
         40.782610000000005,
         -73.96311
        ],
        [
         40.78246,
         -73.96302
        ],
        [
         40.78235,
         -73.96292000000001
        ],
        [
         40.782160000000005,
         -73.96254
        ],
        [
         40.782070000000004,
         -73.96234000000001
        ],
        [
         40.78199,
         -73.96199
        ],
        [
         40.781980000000004,
         -73.96177
        ],
        [
         40.78204,
         -73.96137
        ],
        [
         40.782120000000006,
         -73.96114
        ],
        [
         40.78217,
         -73.96105
        ],
        [
         40.782430000000005,
         -73.96074
        ],
        [
         40.78311500113329,
         -73.96023500518434
        ],
        [
         40.78380000000001,
         -73.95973000000001
        ],
        [
         40.784225000224524,
         -73.95943000203548
        ],
        [
         40.784650000000006,
         -73.95913
        ],
        [
         40.785000000000004,
         -73.95885000000001
        ],
        [
         40.78572000121447,
         -73.95834000546417
        ],
        [
         40.786440000000006,
         -73.95783
        ],
        [
         40.78669,
         -73.95774
        ],
        [
         40.787020000000005,
         -73.95776000000001
        ],
        [
         40.78741,
         -73.95775
        ],
        [
         40.787620000000004,
         -73.95774
        ],
        [
         40.78806,
         -73.9576
        ],
        [
         40.788360000000004,
         -73.95747
        ],
        [
         40.788520000000005,
         -73.95746000000001
        ],
        [
         40.78868000000001,
         -73.95751
        ],
        [
         40.78876,
         -73.95756
        ],
        [
         40.788880000000006,
         -73.9577
        ],
        [
         40.78896,
         -73.95788
        ],
        [
         40.788990000000005,
         -73.95805
        ],
        [
         40.788990000000005,
         -73.95827000000001
        ],
        [
         40.788970000000006,
         -73.95840000000001
        ],
        [
         40.7888,
         -73.95879000000001
        ],
        [
         40.78869,
         -73.95926
        ],
        [
         40.78867,
         -73.95975
        ],
        [
         40.78871,
         -73.96002
        ],
        [
         40.78875,
         -73.96025
        ],
        [
         40.78895,
         -73.96078
        ],
        [
         40.788970000000006,
         -73.96106
        ],
        [
         40.78895,
         -73.96129
        ],
        [
         40.78891,
         -73.9615
        ],
        [
         40.788790000000006,
         -73.96176000000001
        ],
        [
         40.78866,
         -73.96194000000001
        ]
       ],
       "options": [
        "class_name",
        "color",
        "dash_array",
        "draggable",
        "fill",
        "fill_color",
        "fill_opacity",
        "line_cap",
        "line_join",
        "no_clip",
        "opacity",
        "pointer_events",
        "smooth_factor",
        "stroke",
        "transform",
        "weight"
       ],
       "rotation": true,
       "scaling": true,
       "transform": false,
       "uniform_scaling": false
      }
     },
     "fbca4673980943d7a6620ee71f86debc": {
      "model_module": "jupyter-leaflet",
      "model_module_version": "^0.13.0",
      "model_name": "LeafletAttributionControlModel",
      "state": {
       "_model_module_version": "^0.13.0",
       "_view_module_version": "^0.13.0",
       "options": [
        "position",
        "prefix"
       ],
       "position": "bottomright",
       "prefix": "Leaflet"
      }
     }
    },
    "version_major": 2,
    "version_minor": 0
   }
  }
 },
 "nbformat": 4,
 "nbformat_minor": 4
}
