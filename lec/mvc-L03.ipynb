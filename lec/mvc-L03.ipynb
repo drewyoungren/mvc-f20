{
 "cells": [
  {
   "cell_type": "code",
   "execution_count": 17,
   "metadata": {
    "slideshow": {
     "slide_type": "skip"
    }
   },
   "outputs": [],
   "source": [
    "import numpy as np\n",
    "import matplotlib.pyplot as plt\n",
    "from IPython.display import display, HTML, IFrame\n",
    "from ipywidgets import interact\n",
    "import pandas as pd\n",
    "from numpy import cos,sin,pi,dot,arccos \n",
    "from numpy.linalg import norm # this is the magnitude function\n",
    "from mpl_toolkits.mplot3d import axes3d\n",
    "from itertools import combinations\n",
    "\n",
    "plt.rcParams[\"figure.figsize\"] = [8, 8]"
   ]
  },
  {
   "cell_type": "code",
   "execution_count": 4,
   "metadata": {
    "slideshow": {
     "slide_type": "skip"
    }
   },
   "outputs": [
    {
     "data": {
      "text/html": [
       "<style>\n",
       "td {\n",
       "  font-size: 20px;\n",
       "}\n",
       "</style>\n"
      ],
      "text/plain": [
       "<IPython.core.display.HTML object>"
      ]
     },
     "metadata": {},
     "output_type": "display_data"
    }
   ],
   "source": [
    "%%HTML\n",
    "<style>\n",
    "td {\n",
    "  font-size: 20px;\n",
    "}\n",
    "</style>"
   ]
  },
  {
   "cell_type": "markdown",
   "metadata": {
    "slideshow": {
     "slide_type": "notes"
    }
   },
   "source": [
    "$\\newcommand{\\RR}{\\mathbb{R}}$\n",
    "$\\newcommand{\\bv}[1]{\\begin{bmatrix} #1 \\end{bmatrix}}$\n",
    "$\\renewcommand{\\vec}{\\mathbf}$\n"
   ]
  },
  {
   "cell_type": "markdown",
   "metadata": {
    "slideshow": {
     "slide_type": "slide"
    }
   },
   "source": [
    "# Warm up \n",
    "\n",
    "Please answer the following (not serious) survey.\n",
    "\n",
    "## [https://tinyurl.com/rlma4z8](https://tinyurl.com/rlma4z8)"
   ]
  },
  {
   "cell_type": "code",
   "execution_count": 5,
   "metadata": {
    "hide_input": false,
    "slideshow": {
     "slide_type": "fragment"
    }
   },
   "outputs": [
    {
     "data": {
      "text/html": [
       "\n",
       "        <iframe\n",
       "            width=\"640\"\n",
       "            height=\"1549\"\n",
       "            src=\"https://docs.google.com/forms/d/e/1FAIpQLSeJFwqIt4yt5PtuyM5P7DOTuCOFfFNu2MNbZRHH-i-t5dUfaw/viewform?embedded=true\"\n",
       "            frameborder=\"0\"\n",
       "            allowfullscreen\n",
       "        ></iframe>\n",
       "        "
      ],
      "text/plain": [
       "<IPython.lib.display.IFrame at 0x11578cb50>"
      ]
     },
     "execution_count": 5,
     "metadata": {},
     "output_type": "execute_result"
    }
   ],
   "source": [
    "IFrame(\"https://docs.google.com/forms/d/e/1FAIpQLSeJFwqIt4yt5PtuyM5P7DOTuCOFfFNu2MNbZRHH-i-t5dUfaw/viewform?embedded=true\",width=640,height=1549)"
   ]
  },
  {
   "cell_type": "markdown",
   "metadata": {
    "hide_input": true,
    "slideshow": {
     "slide_type": "slide"
    }
   },
   "source": [
    "## Announcements\n",
    "\n",
    "  - Quiz 1 on Gradescope this week\n",
    "    - Distance formula\n",
    "    - Vector operations\n",
    "    - Dot product and its properties\n",
    "    - projection\n",
    "  - Homework 2 posted, due 09/22, 8am EDT\n",
    "  \n",
    "    "
   ]
  },
  {
   "cell_type": "markdown",
   "metadata": {
    "slideshow": {
     "slide_type": "slide"
    }
   },
   "source": [
    "## Vector Operations\n",
    "\n",
    "Let $\\vec v, \\vec w$ be vectors in $\\RR^n$ and $c$ a scalar. \n",
    "\n",
    "| Operation | Notation | Formula | Output |\n",
    "|---|---| --- |---|\n",
    "| magnitude    | $|\\vec v|$ | $$\\sqrt{\\sum v_i^2}$$ | scalar |\n",
    "| scalar multiplication | $c \\vec v$ | $$\\langle c v_1, \\ldots ,c v_n \\rangle $$| vector |\n",
    "| vector addition | $\\vec v + \\vec w$ | $$\\langle v_1 + w_1,\\ldots, v_n + w_n \\rangle $$| vector |\n",
    "| dot product | $\\vec v \\cdot \\vec w$ | $$v_1 w_1 + \\cdots + v_n w_n  $$| scalar |"
   ]
  },
  {
   "cell_type": "markdown",
   "metadata": {
    "slideshow": {
     "slide_type": "slide"
    }
   },
   "source": [
    "# Application: Dot Products and Match-making\n",
    "\n",
    "We collect the above survey data and store each individuals ratings as a vector in $\\RR^5$. We subtract 5 from each entry so the \"neutral\" vector $\\langle 5,5,5,5,5 \\rangle$ is translated to the origin. "
   ]
  },
  {
   "cell_type": "code",
   "execution_count": 16,
   "metadata": {
    "hide_input": false,
    "slideshow": {
     "slide_type": "fragment"
    }
   },
   "outputs": [
    {
     "data": {
      "image/png": "[encoded data removed]",
      "text/plain": [
       "<Figure size 720x432 with 1 Axes>"
      ]
     },
     "metadata": {
      "needs_background": "light"
     },
     "output_type": "display_data"
    }
   ],
   "source": [
    "url = \"https://docs.google.com/spreadsheets/d/e/2PACX-1vQo8Y7wh33vZv9uYdewzwASSfYXQsPEGWldt_lWk8MPBYnBxKprcysZ-u9hjqPIWIeqndB4f-U1oAoM/pub?gid=1201323166&single=true&output=csv\"\n",
    "responses = pd.read_csv(url)\n",
    "qs = ['Gazpacho', 'Wrestling',\n",
    "       'Driver', 'Socks',\n",
    "       'Halloween']\n",
    "responses.columns = ['Timestamp', 'Name'] + qs\n",
    "answers = responses[qs].to_numpy() - 5\n",
    "plt.figure(figsize=((10,6)))\n",
    "plt.plot(np.transpose(answers));\n",
    "plt.xticks(ticks=range(5),labels=qs);\n",
    "# plt.legend(responses.Name,loc='upper right');\n",
    "# responses"
   ]
  },
  {
   "cell_type": "markdown",
   "metadata": {
    "slideshow": {
     "slide_type": "subslide"
    }
   },
   "source": [
    "Then we pair-wise measure the angle (or, really the cosine of the angle) between the data points. The pairs are then ranked on who points most \"in the same direction.\""
   ]
  },
  {
   "cell_type": "code",
   "execution_count": 32,
   "metadata": {
    "hide_input": true,
    "scrolled": true,
    "slideshow": {
     "slide_type": "fragment"
    }
   },
   "outputs": [
    {
     "data": {
      "text/html": [
       "<div>\n",
       "<style scoped>\n",
       "    .dataframe tbody tr th:only-of-type {\n",
       "        vertical-align: middle;\n",
       "    }\n",
       "\n",
       "    .dataframe tbody tr th {\n",
       "        vertical-align: top;\n",
       "    }\n",
       "\n",
       "    .dataframe thead th {\n",
       "        text-align: right;\n",
       "    }\n",
       "</style>\n",
       "<table border=\"1\" class=\"dataframe\">\n",
       "  <thead>\n",
       "    <tr style=\"text-align: right;\">\n",
       "      <th></th>\n",
       "      <th>Name1</th>\n",
       "      <th>Name2</th>\n",
       "      <th>Compat</th>\n",
       "    </tr>\n",
       "  </thead>\n",
       "  <tbody>\n",
       "    <tr>\n",
       "      <th>439</th>\n",
       "      <td>Quick Brown Fox</td>\n",
       "      <td>Barack Obama</td>\n",
       "      <td>0.987829</td>\n",
       "    </tr>\n",
       "    <tr>\n",
       "      <th>721</th>\n",
       "      <td>Wooski</td>\n",
       "      <td>Joe</td>\n",
       "      <td>0.980196</td>\n",
       "    </tr>\n",
       "    <tr>\n",
       "      <th>589</th>\n",
       "      <td>Andrew Yang</td>\n",
       "      <td>Nikos Kalantas</td>\n",
       "      <td>0.974355</td>\n",
       "    </tr>\n",
       "    <tr>\n",
       "      <th>503</th>\n",
       "      <td>Mamba</td>\n",
       "      <td>Luke Skywalker</td>\n",
       "      <td>0.963364</td>\n",
       "    </tr>\n",
       "    <tr>\n",
       "      <th>246</th>\n",
       "      <td>Bob</td>\n",
       "      <td>Jack White</td>\n",
       "      <td>0.960988</td>\n",
       "    </tr>\n",
       "    <tr>\n",
       "      <th>...</th>\n",
       "      <td>...</td>\n",
       "      <td>...</td>\n",
       "      <td>...</td>\n",
       "    </tr>\n",
       "    <tr>\n",
       "      <th>143</th>\n",
       "      <td>Tin Man</td>\n",
       "      <td>Jason</td>\n",
       "      <td>-0.877280</td>\n",
       "    </tr>\n",
       "    <tr>\n",
       "      <th>561</th>\n",
       "      <td>Phil</td>\n",
       "      <td>BadAtCalc</td>\n",
       "      <td>-0.889499</td>\n",
       "    </tr>\n",
       "    <tr>\n",
       "      <th>307</th>\n",
       "      <td>Pancho</td>\n",
       "      <td>Luke Skywalker</td>\n",
       "      <td>-0.894737</td>\n",
       "    </tr>\n",
       "    <tr>\n",
       "      <th>544</th>\n",
       "      <td>Phil</td>\n",
       "      <td>Papá Youngren</td>\n",
       "      <td>-0.902077</td>\n",
       "    </tr>\n",
       "    <tr>\n",
       "      <th>689</th>\n",
       "      <td>Luke Skywalker</td>\n",
       "      <td>Jason</td>\n",
       "      <td>-0.903395</td>\n",
       "    </tr>\n",
       "  </tbody>\n",
       "</table>\n",
       "<p>820 rows × 3 columns</p>\n",
       "</div>"
      ],
      "text/plain": [
       "               Name1           Name2    Compat\n",
       "439  Quick Brown Fox    Barack Obama  0.987829\n",
       "721           Wooski             Joe  0.980196\n",
       "589      Andrew Yang  Nikos Kalantas  0.974355\n",
       "503           Mamba   Luke Skywalker  0.963364\n",
       "246              Bob      Jack White  0.960988\n",
       "..               ...             ...       ...\n",
       "143          Tin Man           Jason -0.877280\n",
       "561            Phil        BadAtCalc -0.889499\n",
       "307           Pancho  Luke Skywalker -0.894737\n",
       "544            Phil    Papá Youngren -0.902077\n",
       "689   Luke Skywalker           Jason -0.903395\n",
       "\n",
       "[820 rows x 3 columns]"
      ]
     },
     "execution_count": 32,
     "metadata": {},
     "output_type": "execute_result"
    }
   ],
   "source": [
    "out = []\n",
    "for x,y in combinations(responses.index,2):\n",
    "    xinfo,yinfo = responses.loc[[x,y],qs].to_numpy() - 5\n",
    "#     print (xinfo,yinfo,dot(xinfo,yinfo))\n",
    "    compat = dot(xinfo,yinfo)/(norm(xinfo)*norm(yinfo))\n",
    "    out.append([responses.loc[x,\"Name\"],responses.loc[y,\"Name\"],compat])\n",
    "\n",
    "results = pd.DataFrame(out,columns=[\"Name1\",\"Name2\",\"Compat\"]).sort_values(\"Compat\",ascending=False)\n",
    "results"
   ]
  },
  {
   "cell_type": "code",
   "execution_count": null,
   "metadata": {},
   "outputs": [],
   "source": [
    "## Filter on a particular name here. \n",
    "search_string = \"Pancho\"\n",
    "results[results.Name1.str.contains(search_string) | results.Name1.str.contains(search_string) ]"
   ]
  },
  {
   "cell_type": "markdown",
   "metadata": {
    "slideshow": {
     "slide_type": "slide"
    }
   },
   "source": [
    "## Projection\n",
    "\n",
    "\"Find the multiple of $\\vec w $ *closest* to $\\vec v$.\""
   ]
  },
  {
   "cell_type": "markdown",
   "metadata": {
    "slideshow": {
     "slide_type": "subslide"
    }
   },
   "source": [
    "### Definitions\n",
    "\n",
    "Suppose $\\vec b \\neq \\vec 0$.\n",
    "\n",
    "The **vector projection** of the vector $\\vec a$ onto $\\vec b$ is \n",
    "$$\\operatorname{proj}_\\vec b \\vec a = \\frac{\\vec a \\cdot \\vec b}{\\vec b \\cdot \\vec b} \\vec b. $$"
   ]
  },
  {
   "cell_type": "markdown",
   "metadata": {
    "slideshow": {
     "slide_type": "subslide"
    }
   },
   "source": [
    "The **scalar projection** of the vector $\\vec a$ onto $\\vec b$ is \n",
    "$$\\operatorname{comp}_\\vec b \\vec a = \\frac{\\vec a \\cdot \\vec b}{|\\vec b|}. $$"
   ]
  },
  {
   "cell_type": "markdown",
   "metadata": {},
   "source": [
    "<p style=\"padding-bottom:40%;\"> </p>"
   ]
  },
  {
   "cell_type": "markdown",
   "metadata": {
    "slideshow": {
     "slide_type": "slide"
    }
   },
   "source": [
    "# Cross Product\n",
    "\n",
    "It turns out $\\RR^3$ is special. There happens to be a vector 'multiplication' of two vectors $$\\vec v \\times \\vec w$$ that gives a new vector. This **does not work** in $\\RR^2$ (and most other dimensions)."
   ]
  },
  {
   "cell_type": "markdown",
   "metadata": {
    "slideshow": {
     "slide_type": "fragment"
    }
   },
   "source": [
    "The following properties actually define the cross product.\n",
    "\n",
    "  - $\\vec v \\times \\vec w$ is bilinear. "
   ]
  },
  {
   "cell_type": "markdown",
   "metadata": {
    "slideshow": {
     "slide_type": "fragment"
    }
   },
   "source": [
    "  - $\\vec v \\times \\vec w  = - \\vec w \\times \\vec v $ (antisymmetry)"
   ]
  },
  {
   "cell_type": "markdown",
   "metadata": {
    "slideshow": {
     "slide_type": "fragment"
    }
   },
   "source": [
    "  - $\\vec i \\times \\vec j = \\vec k$\n",
    "  - $\\vec j \\times \\vec k = \\vec i$\n",
    "  - $\\vec k \\times \\vec i = \\vec j$\n",
    "  "
   ]
  },
  {
   "cell_type": "markdown",
   "metadata": {
    "slideshow": {
     "slide_type": "subslide"
    }
   },
   "source": [
    "## Formula\n",
    "\n",
    "$$ \\langle a,b,c \\rangle\\times \\langle d,e,f \\rangle = (a\\vec i + b\\vec j + c \\vec k)\\times(d\\vec i + e\\vec j + f \\vec k)$$"
   ]
  },
  {
   "cell_type": "markdown",
   "metadata": {
    "slideshow": {
     "slide_type": "fragment"
    }
   },
   "source": [
    "$$ = \\begin{vmatrix} \\vec i & \\vec j & \\vec k \\\\a &b &c \\\\ d & e & f \\\\ \\end{vmatrix} $$"
   ]
  },
  {
   "cell_type": "markdown",
   "metadata": {
    "slideshow": {
     "slide_type": "fragment"
    }
   },
   "source": [
    "$$ = (bf-ce)\\,\\vec i + (cd-af)\\, \\vec j + (ae - bd)\\, \\vec k  $$"
   ]
  },
  {
   "cell_type": "markdown",
   "metadata": {
    "slideshow": {
     "slide_type": "subslide"
    }
   },
   "source": [
    "## Properties of $\\vec v \\times \\vec w$\n",
    "\n",
    "  - $\\vec v \\times \\vec w$ is perpendicular to *both* $\\vec v $ and $\\vec w$."
   ]
  },
  {
   "cell_type": "markdown",
   "metadata": {
    "slideshow": {
     "slide_type": "fragment"
    }
   },
   "source": [
    "  - $\\vec v \\times \\vec w$ points in the direction according to the right-hand-rule."
   ]
  },
  {
   "cell_type": "markdown",
   "metadata": {
    "slideshow": {
     "slide_type": "fragment"
    }
   },
   "source": [
    "  - $|\\vec v \\times \\vec w| = |\\vec v ||\\vec w|\\sin\\theta$ where theta is the (positive) angle between the vectors."
   ]
  },
  {
   "cell_type": "code",
   "execution_count": 21,
   "metadata": {
    "hide_input": true,
    "jupyter": {
     "source_hidden": true
    },
    "slideshow": {
     "slide_type": "fragment"
    }
   },
   "outputs": [
    {
     "data": {
      "application/vnd.jupyter.widget-view+json": {
       "model_id": "0e1a39284f61461d9302e091a1108aa8",
       "version_major": 2,
       "version_minor": 0
      },
      "text/plain": [
       "interactive(children=(IntSlider(value=42, description='angle', max=90, step=6), Output()), _dom_classes=('widg…"
      ]
     },
     "metadata": {},
     "output_type": "display_data"
    }
   ],
   "source": [
    "@interact\n",
    "def _(angle=(0,90,6)):\n",
    "    fig = plt.figure()\n",
    "    ax = fig.gca(projection='3d')\n",
    "    ax.view_init(30,angle)\n",
    "    ax.set_autoscale_on(True)\n",
    "    ax.quiver([0,0,0],[0,0,0],[0,0,0],[1,2,-1.2],[1,.2,3],[1,-1,-1.8],color=['r','r','b'])\n",
    "    ax.set_xlim([-2,2])\n",
    "    ax.set_ylim([-2,2])\n",
    "    ax.set_zlim([-2,2]);"
   ]
  },
  {
   "cell_type": "markdown",
   "metadata": {
    "slideshow": {
     "slide_type": "slide"
    }
   },
   "source": [
    "\n",
    "\n",
    "### Exercise\n",
    "\n",
    "  1. Find a unit vector perpendicular to $\\langle 1,2,-1\\rangle$ and $\\langle 3,0,1\\rangle$. Is there only one?"
   ]
  },
  {
   "cell_type": "code",
   "execution_count": 12,
   "metadata": {},
   "outputs": [],
   "source": [
    "v,w = np.array(((1,2,-1),(3,0,1)))"
   ]
  },
  {
   "cell_type": "markdown",
   "metadata": {
    "slideshow": {
     "slide_type": "slide"
    }
   },
   "source": [
    "## Volumes\n",
    "\n",
    "The volume of a parallelopiped defined by vectors $\\vec u$, $\\vec v$, and $vec w$ as 3 sides is given by $$V = |\\vec u\\cdot(\\vec v \\times \\vec w)|.$$ The inner expression is called the **triple product** of the three vectors."
   ]
  },
  {
   "cell_type": "code",
   "execution_count": 6,
   "metadata": {
    "hide_input": true,
    "slideshow": {
     "slide_type": "subslide"
    }
   },
   "outputs": [
    {
     "data": {
      "application/vnd.jupyter.widget-view+json": {
       "model_id": "0b9c0e1da15b44329de57c33371dd7f8",
       "version_major": 2,
       "version_minor": 0
      },
      "text/plain": [
       "interactive(children=(IntSlider(value=42, description='angle', max=90, step=6), Output()), _dom_classes=('widg…"
      ]
     },
     "metadata": {},
     "output_type": "display_data"
    }
   ],
   "source": [
    "@interact\n",
    "def _(angle=(0,90,6)):\n",
    "    fig = plt.figure()\n",
    "    ax = fig.gca(projection='3d')\n",
    "\n",
    "    uvw = np.array([[1,1.5,1],[2,.2,-1],[1,-1,1]])\n",
    "    u,v,w = uvw\n",
    "    ax.quiver([0,0,0],[0,0,0],[0,0,0],uvw[:,0],uvw[:,1],uvw[:,2])\n",
    "    ppd = np.column_stack([u,u+v,u+v+w,v+w,w,w+u,u+v+w])\n",
    "    ax.plot(ppd[0],ppd[1],ppd[2],color='k',ls='dashed')\n",
    "    ppd = np.column_stack([u+v,v,v+w])\n",
    "    ax.plot(ppd[0],ppd[1],ppd[2],color='k',ls='dashed')\n",
    "    ppd = np.column_stack([u,u+w])\n",
    "    ax.plot(ppd[0],ppd[1],ppd[2],color='k',ls='dashed')\n",
    "    ax.set_autoscale_on(True)\n",
    "    ax.view_init(30,angle)\n",
    "    ax.set_xlim([-1,3])\n",
    "    ax.set_ylim([-2,2])\n",
    "    ax.set_zlim([-2,2]);"
   ]
  },
  {
   "cell_type": "markdown",
   "metadata": {
    "slideshow": {
     "slide_type": "slide"
    }
   },
   "source": [
    "## Lines and Planes\n",
    "\n",
    "In $\\RR^2$, two distinct points determine a line. The same is true in higher dimensions. \n",
    "\n",
    "Similarly, a slope (a scalar) and a point is sufficient in $\\RR^2$, but in higher dimension the \"direction\" of a line needs more than a scalar to be specified. It can be done with a **direction vector**.\n",
    "\n",
    "### Parametric form\n",
    "\n",
    "The parametric form for a line through a position $\\vec p$ with direction vector $\\vec v$ it geven by $$\\vec r(t) = \\vec p + t \\vec v.$$\n"
   ]
  },
  {
   "cell_type": "code",
   "execution_count": 7,
   "metadata": {
    "hide_input": true,
    "slideshow": {
     "slide_type": "fragment"
    }
   },
   "outputs": [
    {
     "data": {
      "application/vnd.jupyter.widget-view+json": {
       "model_id": "086ffaba93ea45908068941b3a62209d",
       "version_major": 2,
       "version_minor": 0
      },
      "text/plain": [
       "interactive(children=(FloatSlider(value=1.5, description='t', max=5.0, min=-2.0), IntSlider(value=42, descript…"
      ]
     },
     "metadata": {},
     "output_type": "display_data"
    }
   ],
   "source": [
    "@interact\n",
    "def _(t=(-2.,5.,.1),angle=(-30,120,6)):\n",
    "    fig = plt.figure()\n",
    "    ax = fig.gca(projection='3d')\n",
    "    ax.quiver([0,1],[0,1],[0,1],[1,2*t],[1,0],[1,-t*2])\n",
    "    ax.plot([1+2*(-1),1+2*(5)],[1,1],[1-2*(-1),1-2*5],color='k',ls='dashed')\n",
    "    ax.set_xlim([-1,5])\n",
    "    ax.set_ylim([-2,4])\n",
    "    ax.set_zlim([-2,4]);\n",
    "    ax.view_init(30, angle)\n",
    "    ax.quiver([0,1],[0,1],[0,1],[1,2*t],[1,0],[1,-t*2])\n",
    "    ax.set_autoscale_on(True)\n",
    "    for c in 'xyz':\n",
    "#         getattr(ax,f\"set_{c}lim\")([-6,6]);\n",
    "        getattr(ax,f\"set_{c}label\")(f\"${c}$\",size=16)"
   ]
  },
  {
   "cell_type": "markdown",
   "metadata": {
    "slideshow": {
     "slide_type": "subslide"
    }
   },
   "source": [
    "### Quick exercise\n",
    "\n",
    "Write a parametric form for a line containing position vectors $\\vec p$ and $\\vec q$."
   ]
  },
  {
   "cell_type": "markdown",
   "metadata": {},
   "source": [
    "<p style=\"padding-bottom:40%;\"> </p>"
   ]
  },
  {
   "cell_type": "markdown",
   "metadata": {
    "slideshow": {
     "slide_type": "fragment"
    }
   },
   "source": [
    "### Alternate form\n",
    "\n",
    "Sometimes lines in $\\RR^3$ are written as 3 equations:\n",
    "\n",
    "\\begin{align*}\n",
    "x &= v_1 t + p_1 \\\\\n",
    "y &= v_2 t + p_2 \\\\\n",
    "z &= v_3 t + p_3\n",
    "\\end{align*}"
   ]
  },
  {
   "cell_type": "markdown",
   "metadata": {
    "slideshow": {
     "slide_type": "subslide"
    }
   },
   "source": [
    "## Exercises\n",
    "\n",
    "  1. Where does the line through $(2,4,-2)$ and $(3,1,-1)$ cross the $xy$-plane?\n",
    "  2. Is the line $(2,4,0)$ and $(1,1,1)$ perpendicular to the line through $(3,3,4)$ and $(3,-1,-8)$?"
   ]
  },
  {
   "cell_type": "markdown",
   "metadata": {
    "slideshow": {
     "slide_type": "slide"
    }
   },
   "source": [
    "# Planes\n",
    "\n",
    "By analogy, we could parametrize planes in a similar way, but need 2 parameters.\n",
    "\n",
    "$$\\vec r(s,t) = \\vec p + t\\vec v + s \\vec w$$"
   ]
  },
  {
   "cell_type": "code",
   "execution_count": 9,
   "metadata": {
    "hide_input": true,
    "jupyter": {
     "source_hidden": true
    },
    "slideshow": {
     "slide_type": "fragment"
    }
   },
   "outputs": [
    {
     "data": {
      "application/vnd.jupyter.widget-view+json": {
       "model_id": "20ad3d39e1b744cdb76a4f729d5f4868",
       "version_major": 2,
       "version_minor": 0
      },
      "text/plain": [
       "interactive(children=(IntSlider(value=42, description='angle', max=120, min=-30, step=6), IntSlider(value=42, …"
      ]
     },
     "metadata": {},
     "output_type": "display_data"
    }
   ],
   "source": [
    "@interact\n",
    "def _(angle=(-30,120,6),vangle=(0,90,6)):\n",
    "    fig = plt.figure()\n",
    "    ax = fig.gca(projection='3d')\n",
    "\n",
    "    s = t = np.linspace(-2,2,30)\n",
    "    s,t = np.meshgrid(s,t)\n",
    "\n",
    "    x = 3 - 2*t + 3*s\n",
    "    y = 0 + 1*t + 1*s\n",
    "    z = 1 + 2*t - 1*s\n",
    "\n",
    "    ax.plot_surface(x,y,z,alpha=.3)\n",
    "    r,v,w = np.column_stack([[0,0,0],[3,0,1],[3,0,1],[3,0,1],[-2,1,2],[3,1,-1]])\n",
    "    ax.quiver(r[:3],v[:3],w[:3],r[3:],v[3:],w[3:],color=['r','b','b']);\n",
    "    ax.view_init(vangle, angle)\n",
    "    ax.set_autoscale_on(True)\n",
    "    for c in 'xyz':\n",
    "        getattr(ax,f\"set_{c}lim\")([-6,6]);\n",
    "        getattr(ax,f\"set_{c}label\")(f\"${c}$\",size=16)"
   ]
  },
  {
   "cell_type": "markdown",
   "metadata": {
    "slideshow": {
     "slide_type": "subslide"
    }
   },
   "source": [
    "## Equation of a plane\n",
    "\n",
    "But a more efficient way in $\\RR^3$ recognizes that a plane can be define by \n",
    "  - a position vector $\\vec p = \\langle p_1,p_2,p_3 \\rangle$, and\n",
    "  - a **normal** vectorn $\\vec n = \\langle a,b,c \\rangle$, perpendicular to the plane.\n",
    "  \n",
    "So a position vector $\\vec x = \\langle x,y,z \\rangle$ if and only if $$\\vec n\\cdot(\\vec x - \\vec p) = 0 $$"
   ]
  },
  {
   "cell_type": "code",
   "execution_count": 10,
   "metadata": {
    "hide_input": true,
    "jupyter": {
     "source_hidden": true
    },
    "slideshow": {
     "slide_type": "fragment"
    }
   },
   "outputs": [
    {
     "data": {
      "application/vnd.jupyter.widget-view+json": {
       "model_id": "c6379c858bbb4ae3b6dcebcc385c69b9",
       "version_major": 2,
       "version_minor": 0
      },
      "text/plain": [
       "interactive(children=(IntSlider(value=45, description='angle', max=90, step=3), IntSlider(value=45, descriptio…"
      ]
     },
     "metadata": {},
     "output_type": "display_data"
    }
   ],
   "source": [
    "@interact\n",
    "def _(angle=(0,90,3),vangle=(0,90,3)):\n",
    "    fig = plt.figure()\n",
    "    ax = fig.gca(projection='3d')\n",
    "\n",
    "    s = t = np.linspace(-2,2,30)\n",
    "    s,t = np.meshgrid(s,t)\n",
    "\n",
    "    n = -np.cross([-2,1,2],[3,1,-1])\n",
    "\n",
    "    x = 3 - 2*t + 3*s\n",
    "    y = 0 + 1*t + 1*s\n",
    "    z = 1 + 2*t - 1*s\n",
    "\n",
    "    ax.plot_surface(x,y,z,alpha=.3)\n",
    "    r,v,w = np.column_stack([[0,0,0],[3,0,1],[3,0,1],n])\n",
    "    ax.quiver(r[:2],v[:2],w[:2],r[2:],v[2:],w[2:],color=['r','k']);\n",
    "    for c in 'xyz':\n",
    "        getattr(ax,f\"set_{c}lim\")([-6,6]);    \n",
    "\n",
    "    ax.view_init(vangle, angle)\n"
   ]
  },
  {
   "cell_type": "markdown",
   "metadata": {
    "slideshow": {
     "slide_type": "subslide"
    }
   },
   "source": [
    "## Equation of a plane\n",
    "\n",
    "In coordinates, this becomes $$a(x-p_1) + b (y-p_2) + c (z-p_3) = 0$$ or, alternatively, $$ax+by+cz = d$$ where $d=\\vec n \\cdot\\vec p$.\n"
   ]
  },
  {
   "cell_type": "markdown",
   "metadata": {},
   "source": [
    "<p style=\"padding-bottom:40%;\"> </p>"
   ]
  },
  {
   "cell_type": "markdown",
   "metadata": {
    "slideshow": {
     "slide_type": "fragment"
    }
   },
   "source": [
    "#### Quick exercise\n",
    "\n",
    "What is a normal vector to the plane given by $$ x+2y = 16-8z?$$\n",
    "Find a point on this plane. "
   ]
  },
  {
   "cell_type": "markdown",
   "metadata": {
    "slideshow": {
     "slide_type": "slide"
    }
   },
   "source": [
    "### Exercises\n",
    "\n",
    "  1. Find an equation of the plane through $(1,0,0)$, $(0,1,0)$, and $(0,0,1)$.\n",
    "  2. Find a parametric form for the line of intersection of the planes given by $x+y-z = 2$ and $2x - y + 3z = 1$."
   ]
  },
  {
   "cell_type": "markdown",
   "metadata": {},
   "source": [
    "<p style=\"padding-bottom:40%;\"> </p>"
   ]
  },
  {
   "cell_type": "markdown",
   "metadata": {
    "slideshow": {
     "slide_type": "slide"
    }
   },
   "source": [
    "# Distance between points, lines, and planes\n",
    "\n",
    "The distance between points is given easily by the distance formula, but often one wants to know the distance from a position to a given set of points, or between two sets. First, we must specify by \"distance to a set\" we mean **the minimum of the distances to all points is the set**.\n",
    "\n",
    "#### Example\n",
    "\n",
    "Find the distance from the origin to the line given by \n",
    "$$\\vec r(t) = (3-t)\\,\\vec i + 2t\\,\\vec j + (t - 2)\\,\\vec k.$$"
   ]
  },
  {
   "cell_type": "code",
   "execution_count": 11,
   "metadata": {
    "hide_input": true,
    "jupyter": {
     "source_hidden": true
    },
    "slideshow": {
     "slide_type": "fragment"
    }
   },
   "outputs": [
    {
     "data": {
      "application/vnd.jupyter.widget-view+json": {
       "model_id": "27b015751e7b4b98a4cecfd9bd10f1e2",
       "version_major": 2,
       "version_minor": 0
      },
      "text/plain": [
       "interactive(children=(FloatSlider(value=1.5, description='t', max=5.0, min=-2.0), IntSlider(value=45, descript…"
      ]
     },
     "metadata": {},
     "output_type": "display_data"
    }
   ],
   "source": [
    "p,v = np.array([[3,0,-2],[-1,2,1]])\n",
    "pj = np.dot(p,v)/np.dot(v,v)*v\n",
    "@interact\n",
    "def _(t=(-2.,5.,.1),angle=(0,90,3),sol=False):\n",
    "    fig = plt.figure()\n",
    "    ax = fig.gca(projection='3d')\n",
    "    ax.quiver([0,0],[0,0],[0,0],[3,3-1*t],[0,2*t],[-2,-2+t])\n",
    "    ax.plot([5,-2],[-4,10],[-4,3],color='k',ls='dashed')\n",
    "    ax.view_init(30, angle)\n",
    "    ax.set_xlim([-1,5])\n",
    "    ax.set_ylim([-2,4])\n",
    "    ax.set_zlim([-2,4]);\n",
    "    if sol:\n",
    "        vx,vy,vz = np.column_stack([[0,0,0],pj,pj,p-pj])\n",
    "        ax.quiver(vx[:2],vy[:2],vz[:2],vx[2:],vy[2:],vz[2:],color='r')"
   ]
  },
  {
   "cell_type": "markdown",
   "metadata": {},
   "source": [
    "<p style=\"padding-bottom:40%;\"> </p>"
   ]
  },
  {
   "cell_type": "markdown",
   "metadata": {
    "slideshow": {
     "slide_type": "subslide"
    }
   },
   "source": [
    "### Distance from a point to a line\n",
    "\n",
    "We can generalize this:\n",
    "The distance from a point at position $\\vec x$ to a line with parametric form $\\vec r (t) = \\vec p + t\\,\\vec v$ is given by $$|\\vec x - \\vec p - \\operatorname{proj}_\\vec v (\\vec x - \\vec p) |.$$"
   ]
  }
 ],
 "metadata": {
  "celltoolbar": "Slideshow",
  "kernelspec": {
   "display_name": "Python 3",
   "language": "python",
   "name": "python3"
  },
  "language_info": {
   "codemirror_mode": {
    "name": "ipython",
    "version": 3
   },
   "file_extension": ".py",
   "mimetype": "text/x-python",
   "name": "python",
   "nbconvert_exporter": "python",
   "pygments_lexer": "ipython3",
   "version": "3.7.6"
  },
  "rise": {
   "enable_chalkboard": true,
   "scroll": true,
   "theme": "sky",
   "transition": "concave"
  }
 },
 "nbformat": 4,
 "nbformat_minor": 4
}
