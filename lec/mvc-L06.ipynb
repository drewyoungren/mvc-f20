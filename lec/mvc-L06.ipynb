{
 "cells": [
  {
   "cell_type": "code",
   "execution_count": 13,
   "metadata": {
    "slideshow": {
     "slide_type": "skip"
    }
   },
   "outputs": [],
   "source": [
    "import numpy as np\n",
    "import matplotlib.pyplot as plt\n",
    "from IPython.display import display, HTML, IFrame\n",
    "from ipywidgets import interact, fixed\n",
    "import pandas as pd\n",
    "from numpy import cos,sin,tan,arctan,exp,log,pi,array,linspace,arange\n",
    "from numpy.linalg import norm\n",
    "from mpl_toolkits import mplot3d\n",
    "\n",
    "plt.rcParams[\"figure.figsize\"] = [6,6]"
   ]
  },
  {
   "cell_type": "markdown",
   "metadata": {
    "slideshow": {
     "slide_type": "notes"
    }
   },
   "source": [
    "$\\newcommand{\\RR}{\\mathbb{R}}$\n",
    "$\\newcommand{\\bv}[1]{\\begin{bmatrix} #1 \\end{bmatrix}}$\n",
    "$\\renewcommand{\\vec}{\\mathbf}$\n"
   ]
  },
  {
   "cell_type": "markdown",
   "metadata": {
    "hide_input": true,
    "slideshow": {
     "slide_type": "slide"
    }
   },
   "source": [
    "## Announcements\n",
    "\n",
    "  - Quiz 2 on Gradescope tonight\n",
    "    - Lines and planes and products\n",
    "  - Homework 3 posted, due 9/29   "
   ]
  },
  {
   "cell_type": "markdown",
   "metadata": {
    "slideshow": {
     "slide_type": "slide"
    }
   },
   "source": [
    "# One-minute Review\n",
    "\n",
    "A space curve can represent the **position** of a body at time $t$. $$\\vec r(t) = x(t)\\vec i + y(t) \\vec j + z(t) \\vec k.$$ \n",
    "\n",
    "Its derivative $$\\vec r'(t) = x'(t)\\vec i + y'(t) \\vec j + z'(t) \\vec k$$ is the **velocity vector**. Its magnitude is the **speed**.\n",
    "\n",
    "The second derivative $\\vec r''(t)$ is the **acceleration**. "
   ]
  },
  {
   "cell_type": "code",
   "execution_count": 18,
   "metadata": {
    "hide_input": true,
    "jupyter": {
     "source_hidden": true
    },
    "slideshow": {
     "slide_type": "fragment"
    }
   },
   "outputs": [
    {
     "data": {
      "application/vnd.jupyter.widget-view+json": {
       "model_id": "961b6c67c3a84a0b826053eafaf47e4f",
       "version_major": 2,
       "version_minor": 0
      },
      "text/plain": [
       "interactive(children=(FloatSlider(value=0.0, description='t', max=1.0, min=-1.0, step=0.05), Dropdown(descript…"
      ]
     },
     "metadata": {},
     "output_type": "display_data"
    }
   ],
   "source": [
    "r1 = lambda t: np.array([t,t**2,t**3])\n",
    "r2 = lambda t: np.array([cos(2*pi*t),sin(2*pi*t),t])\n",
    "r3 = lambda t: np.array([cos(8*pi*t),sin(3*pi*t),sin(7*pi*t)])\n",
    "\n",
    "@interact\n",
    "def _(t=(-1,1,.05),r={\"twist\":r1, \"helix\": r2, \"wacky\": r3},angle=(-90,120,6),vangle=(0,90,6),osculating_plane=False\n",
    "     ):\n",
    "    fig = plt.figure()\n",
    "    ax = fig.add_subplot(111,projection='3d')\n",
    "    s = np.linspace(-1,1,300)\n",
    "    ax.view_init(vangle, angle)\n",
    "    ax.set_autoscale_on(True)\n",
    "    for c in 'xyz':\n",
    "        getattr(ax,f\"set_{c}lim\")([-1,1]);    \n",
    "        getattr(ax,f\"set_{c}label\")(f\"${c}$\",size=16)\n",
    "    X,Y,Z = np.column_stack([r(x) for x in s])\n",
    "    # make axes lines\n",
    "    ax.plot([-1,1],[0,0],[0,0],'k')\n",
    "    ax.plot([0,0],[-1,1],[0,0],'k')\n",
    "    ax.plot([0,0],[0,0],[-1,1],'k')\n",
    "    ax.plot(X,Y,Z,alpha=1,lw=3);\n",
    "    ax.quiver(0,0,0,r(t)[0],r(t)[1],r(t)[2])\n",
    "    v = (r(t+.004) - r(t-.004))*250\n",
    "    v = v/norm(v) # scale for visibility only\n",
    "    ax.quiver(r(t)[0],r(t)[1],r(t)[2],v[0],v[1],v[2],color=\"green\")\n",
    "    a = (r(t+.004) - r(t)*2 + r(t-.004))*250**2\n",
    "    a = a/norm(a) # scale for visibility only\n",
    "    ax.quiver(r(t)[0],r(t)[1],r(t)[2],a[0],a[1],a[2],color=\"red\")\n",
    "    if osculating_plane:\n",
    "#         verts=[r(t) + v + a,r(t) + v - a,r(t) - v - a]\n",
    "#         ax.add_collection3d(Poly3DCollection(verts,alpha=.3))\n",
    "#         verts=[r(t) + v + a,r(t) - v - a,r(t) - v + a]\n",
    "#         ax.add_collection3d(Poly3DCollection(verts,alpha=.3))\n",
    "        xs,ys,zs = np.column_stack([r(t) + v + a,r(t) + v - a,r(t) - v + a,r(t) - v - a])\n",
    "        ax.plot_surface(xs.reshape(2,2),ys.reshape(2,2),zs.reshape(2,2),alpha=.3,zorder=.6)"
   ]
  },
  {
   "cell_type": "markdown",
   "metadata": {
    "slideshow": {
     "slide_type": "slide"
    }
   },
   "source": [
    "# Lecture 06\n",
    "\n",
    "  - Objectives\n",
    "\n",
    "    - Describe motion of objects using calculus of curves.\n",
    "    - Compute arc length of curves.\n",
    "    - Explain the quantity $\\kappa$, the curvature.\n",
    "  \n",
    "  - Resources\n",
    "    - Content\n",
    "      - Stewart: §13.3-4\n",
    "      - New Strang: [§3.3](https://cnx.org/contents/oxzXkyFi@5.30:9fEOYsBF@9/3-3-Arc-Length-and-Curvature) [§3.4]()\n",
    "    - Visualization\n",
    "      - [CalcPlot3D](https://www.monroecc.edu/faculty/paulseeburger/calcnsf/CalcPlot3D/)\n",
    "    - Practice\n",
    "      - Mooculus: [Motion and Paths in Space](https://ximera.osu.edu/mooculus/calculus3/motionAndPathsInSpace/titlePage)\n",
    "    - Extras\n",
    "      - CalcBLUE: [Vector Calculus and Motion](https://www.youtube.com/watch?v=rq4kxVFnOUA&index=48&list=PL8erL0pXF3JYm7VaTdKDaWc8Q3FuP8Sa7)"
   ]
  },
  {
   "cell_type": "markdown",
   "metadata": {
    "hide_input": false,
    "slideshow": {
     "slide_type": "slide"
    }
   },
   "source": [
    "## Integration\n",
    "\n",
    "Integrals are limits of sums. Vectors can be added and scaled, so this definition also goes right through, though the interpretation is less clear.\n",
    "\n",
    "$$\\int_a^b \\vec r(t)\\,dt = \\lim_{N\\to\\infty} \\sum_{i=1}^N \\vec r(t_i^*) \\,\\Delta t$$"
   ]
  },
  {
   "cell_type": "markdown",
   "metadata": {
    "slideshow": {
     "slide_type": "fragment"
    }
   },
   "source": [
    "$$ = \\left\\langle \\int_a^b x(t)\\,dt, \\int_a^b y(t)\\,dt ,\\int_a^b z(t)\\,dt \\right\\rangle$$ in components. "
   ]
  },
  {
   "cell_type": "markdown",
   "metadata": {
    "slideshow": {
     "slide_type": "fragment"
    }
   },
   "source": [
    "\n",
    "Note the integral is a **vector**, not an \"area\"."
   ]
  },
  {
   "cell_type": "markdown",
   "metadata": {},
   "source": [
    "<p style=\"padding-bottom:40%;\"> </p>"
   ]
  },
  {
   "cell_type": "markdown",
   "metadata": {
    "slideshow": {
     "slide_type": "fragment"
    }
   },
   "source": [
    "## Fundamental Theorem\n",
    "\n",
    "$$\\vec r(t) = \\vec r(a) + \\int_a^t \\vec r'(\\tau)\\,d\\tau$$  "
   ]
  },
  {
   "cell_type": "markdown",
   "metadata": {},
   "source": [
    "<p style=\"padding-bottom:40%;\"> </p>"
   ]
  },
  {
   "cell_type": "markdown",
   "metadata": {
    "slideshow": {
     "slide_type": "slide"
    }
   },
   "source": [
    "# Motion in Space\n",
    "\n",
    "A fundamental application of vector-valued function is describing motion in space. Suppose the **position** of a particle in space is given by $\\vec r(t)$. Its derivative $\\vec r'(t) = \\vec v(t)$ is called the **velocity**, and its second derivative $\\vec r''(t) = \\vec a(t)$ is the **acceleration**. **Speed** is the magnitude of velocity $v = |\\vec v(t)|$.\n",
    "\n",
    "$$\\vec a(t) = \\vec v'(t) = \\vec r''(t) $$\n",
    "\n",
    "You are likely familiar with Newton's Second Law of motion $$\\vec F = m \\,\\vec a.$$\n",
    "\n"
   ]
  },
  {
   "cell_type": "markdown",
   "metadata": {},
   "source": [
    "## Example\n",
    "\n",
    "Find the range formula, the distance a projectile fired from the ground at speed $v_0$ and angle of inclination $\\alpha$ will land from its launch point."
   ]
  },
  {
   "cell_type": "code",
   "execution_count": 20,
   "metadata": {
    "hide_input": true,
    "jupyter": {
     "source_hidden": true
    },
    "slideshow": {
     "slide_type": "skip"
    }
   },
   "outputs": [
    {
     "data": {
      "application/vnd.jupyter.widget-view+json": {
       "model_id": "fcb11ca0377b49a28a2c08002147e1a4",
       "version_major": 2,
       "version_minor": 0
      },
      "text/plain": [
       "interactive(children=(FloatSlider(value=0.7853981633974483, description='alpha', max=1.5707963267948966), IntS…"
      ]
     },
     "metadata": {},
     "output_type": "display_data"
    }
   ],
   "source": [
    "# range of a projectile launched from the ground with angle alpha and speed v ft/sec\n",
    "\n",
    "@interact\n",
    "def _(alpha = (0,pi/2),v=(0,100)):\n",
    "    x=np.linspace(0,10,101)\n",
    "    plt.plot(v*cos(alpha)*x,v*sin(alpha)*x-32*x**2/2)\n",
    "    plt.ylim([0,160])\n",
    "    plt.xlim([0,350])"
   ]
  },
  {
   "cell_type": "markdown",
   "metadata": {},
   "source": [
    "<p style=\"padding-bottom:40%;\"> </p>"
   ]
  },
  {
   "cell_type": "markdown",
   "metadata": {
    "slideshow": {
     "slide_type": "subslide"
    }
   },
   "source": [
    "## Example\n",
    "\n",
    "A particle initially at rest at the origin is subjected to an acceleration $$\\vec a(t) = \\begin{cases} \\vec i -  t\\,\\vec j, & t\\leq 6 \\\\ \\vec 0, & t > 6 \\end{cases}.$$ Find its position at $t=10$."
   ]
  },
  {
   "cell_type": "code",
   "execution_count": 22,
   "metadata": {
    "hide_input": true,
    "jupyter": {
     "source_hidden": true
    },
    "slideshow": {
     "slide_type": "fragment"
    }
   },
   "outputs": [
    {
     "data": {
      "application/vnd.jupyter.widget-view+json": {
       "model_id": "7558e360f8dd470d9daeab3c95651169",
       "version_major": 2,
       "version_minor": 0
      },
      "text/plain": [
       "interactive(children=(FloatSlider(value=5.0, description='tf', max=10.0, min=1.0, step=0.05), Output()), _dom_…"
      ]
     },
     "metadata": {},
     "output_type": "display_data"
    }
   ],
   "source": [
    "@interact\n",
    "def _(tf=(1,10,.05)):\n",
    "    t = np.linspace(0,min(tf,6),201)\n",
    "    plt.plot(1/2*t**2,-t**3/6)\n",
    "    if tf > 6:\n",
    "        t = np.linspace(6,tf,201)\n",
    "        plt.plot(1/2*t**2,-t**3/6,'--')\n",
    "        plt.plot(18 + 6*(t-6),-36 - 18*(t-6),'-');\n",
    "    plt.xlim((0,50))\n",
    "    plt.ylim((-175,50))"
   ]
  },
  {
   "cell_type": "markdown",
   "metadata": {
    "slideshow": {
     "slide_type": "slide"
    }
   },
   "source": [
    "# Arc Length\n",
    "\n",
    "Most have an intuition for what is meant by the length of a curving path. But carefully formulating it gives rise rather quickly to a fundamental formula."
   ]
  },
  {
   "cell_type": "code",
   "execution_count": 8,
   "metadata": {
    "hide_input": true,
    "jupyter": {
     "source_hidden": true
    },
    "slideshow": {
     "slide_type": "fragment"
    }
   },
   "outputs": [
    {
     "data": {
      "application/vnd.jupyter.widget-view+json": {
       "model_id": "1ee8e1e7c89e46258cdfb0c6e9ea564a",
       "version_major": 2,
       "version_minor": 0
      },
      "text/plain": [
       "interactive(children=(IntSlider(value=46, description='n', min=1, step=5), IntSlider(value=42, description='an…"
      ]
     },
     "metadata": {},
     "output_type": "display_data"
    }
   ],
   "source": [
    "r = lambda t: np.array([cos(2*pi*t),sin(2*pi*t),sin(6*pi*t)])\n",
    "\n",
    "@interact\n",
    "def _(n=(1,100,5),angle=(-30,120,6)):\n",
    "    fig = plt.figure(figsize = (10,10))\n",
    "    ax = fig.add_subplot(111,projection='3d')\n",
    "    s = np.linspace(0,1,300)\n",
    "    ax.view_init(30, angle)\n",
    "    ax.set_autoscale_on(True)\n",
    "    for c in 'xyz':\n",
    "        getattr(ax,f\"set_{c}lim\")([-1,1]);    \n",
    "        getattr(ax,f\"set_{c}label\")(f\"${c}$\",size=16)\n",
    "    X,Y,Z = np.column_stack([r(x) for x in s])\n",
    "    ax.plot(X,Y,Z,alpha=1,lw=3);\n",
    "    s = np.linspace(0,1,n+1)\n",
    "    X,Y,Z = np.column_stack([r(x) for x in s])\n",
    "    ax.plot(X,Y,Z,alpha=1,lw=3);\n",
    "    # make axes lines\n",
    "    ax.plot([-1,1],[0,0],[0,0],'k')\n",
    "    ax.plot([0,0],[-1,1],[0,0],'k')\n",
    "    ax.plot([0,0],[0,0],[-1,1],'k')\n"
   ]
  },
  {
   "cell_type": "markdown",
   "metadata": {
    "slideshow": {
     "slide_type": "subslide"
    }
   },
   "source": [
    "## Arc Length\n",
    "\n",
    "So a reasonable approximation is \n",
    "\n",
    "$$\\sum_{i=1}^n |\\vec r(a + i \\Delta t) - \\vec r(a+(i-1)\\Delta t)|$$ "
   ]
  },
  {
   "cell_type": "markdown",
   "metadata": {
    "slideshow": {
     "slide_type": "fragment"
    }
   },
   "source": [
    "$$ = \\sum_{i=1}^n \\left|\\frac{\\vec r(a + i \\Delta t) - \\vec r(a+(i-1)\\Delta t)}{\\Delta t}\\right| \\Delta t $$ since $\\Delta t >0$."
   ]
  },
  {
   "cell_type": "markdown",
   "metadata": {
    "slideshow": {
     "slide_type": "fragment"
    }
   },
   "source": [
    "$$ \\longrightarrow \\int_a^b |\\vec r'(t)|\\,dt$$\n"
   ]
  },
  {
   "cell_type": "markdown",
   "metadata": {},
   "source": [
    "<p style=\"padding-bottom:40%;\"> </p>"
   ]
  },
  {
   "cell_type": "markdown",
   "metadata": {
    "slideshow": {
     "slide_type": "subslide"
    }
   },
   "source": [
    "### Example\n",
    "\n",
    "Find the arc length of one coil of the helix $$\\cos t\\,\\vec i + \\sin t\\,\\vec j + t\\,\\vec k.$$"
   ]
  },
  {
   "cell_type": "code",
   "execution_count": 42,
   "metadata": {
    "jupyter": {
     "source_hidden": true
    }
   },
   "outputs": [
    {
     "data": {
      "application/vnd.jupyter.widget-view+json": {
       "model_id": "f91b3e4cfa5d4c839d1468cdfe8143f9",
       "version_major": 2,
       "version_minor": 0
      },
      "text/plain": [
       "interactive(children=(FloatSlider(value=0.06283185307179587, description='unroll', max=6.283185307179586, min=…"
      ]
     },
     "metadata": {},
     "output_type": "display_data"
    }
   ],
   "source": [
    "@interact(unroll=(pi/50,2*pi,pi/50),paper=(0,.6,.1))\n",
    "def _(unroll=pi/50,paper=0,angle=(-96,96,6)):\n",
    "    fig = plt.figure()\n",
    "    ax = fig.add_subplot(111,projection='3d')\n",
    "    t = arange(0,unroll+pi/100,pi/100)\n",
    "    ax.plot(np.ones_like(t),t,t,color='b');\n",
    "    x,y=np.meshgrid(t,linspace(0,2*pi,3))\n",
    "    ax.plot_surface(np.ones_like(x),x,y,zorder=-1,alpha=paper,color='orange')\n",
    "    t = arange(0,2*pi-unroll+pi/100,pi/100)\n",
    "    ax.plot(cos(t),unroll + sin(t),t+unroll,color='b');\n",
    "    x,y=np.meshgrid(t,linspace(0,2*pi,3))\n",
    "    ax.plot_surface(cos(x),unroll + sin(x),y,zorder=-1,alpha=paper,color='orange')\n",
    "    ax.set_ylim((-1,2*pi-1))\n",
    "    ax.set_xlim((-2*pi+1,1))\n",
    "    ax.view_init(30,angle)"
   ]
  },
  {
   "cell_type": "markdown",
   "metadata": {},
   "source": [
    "<p style=\"padding-bottom:40%;\"> </p>"
   ]
  },
  {
   "cell_type": "markdown",
   "metadata": {
    "slideshow": {
     "slide_type": "slide"
    }
   },
   "source": [
    "## Reparametrization\n",
    "\n",
    "The same path in space can be traced in any number of ways—fast, slow, backwards. The process of changing this is called **reparametrization**. In effect, we replace the argument to a curve $\\vec r(t)$ with a different scalar-valued function to make $\\vec r(f(t))$.\n",
    "\n",
    "#### Quick example\n",
    "\n",
    "$\\langle \\cos t, \\sin t\\rangle$ traces out the unit circle over the interval $[0,2\\pi]$.\n",
    "\n",
    "$\\langle \\cos (16\\pi t), \\sin (16\\pi t)\\rangle$ traces out the unit circle much \"faster\", over the interval $[0,\\frac18]$.\n",
    "\n",
    "Take the derivatives of each of the above to see this."
   ]
  },
  {
   "cell_type": "markdown",
   "metadata": {
    "slideshow": {
     "slide_type": "subslide"
    }
   },
   "source": [
    "### Parametrization by arc length\n",
    "\n",
    "Let $\\vec r(t)$ for $t\\in[a,b]$ be a smooth (i.e., $|\\vec r'(t)| \\neq 0$) curve. Let $$s(t) = \\int_a^t |\\vec r'(\\tau)|\\,d\\tau$$ be the arc length function. Note:"
   ]
  },
  {
   "cell_type": "markdown",
   "metadata": {
    "slideshow": {
     "slide_type": "fragment"
    }
   },
   "source": [
    "  - $L = s(b)$ is the length of the curve. "
   ]
  },
  {
   "cell_type": "markdown",
   "metadata": {
    "slideshow": {
     "slide_type": "fragment"
    }
   },
   "source": [
    "  - $\\frac{ds}{dt} = |\\vec r'(t)|$."
   ]
  },
  {
   "cell_type": "markdown",
   "metadata": {
    "slideshow": {
     "slide_type": "fragment"
    }
   },
   "source": [
    "  - $s(t)$ is monotonically increasing, thus invertible. We write $\\vec r(s)$ for $s\\in [0,L]$ to be this curve **parametrized by arc length**."
   ]
  },
  {
   "cell_type": "markdown",
   "metadata": {
    "slideshow": {
     "slide_type": "fragment"
    }
   },
   "source": [
    "  - $\\vec r'(t) = \\frac{d\\vec r}{ds} \\frac{ds}{dt}$"
   ]
  },
  {
   "cell_type": "markdown",
   "metadata": {
    "slideshow": {
     "slide_type": "fragment"
    }
   },
   "source": [
    "  - $\\vec T = \\frac{d\\vec r}{ds} =\\frac{\\vec r'(t)}{|\\vec r'(t)|}$ is a unit vector. "
   ]
  },
  {
   "cell_type": "markdown",
   "metadata": {
    "slideshow": {
     "slide_type": "subslide"
    }
   },
   "source": [
    "### Example\n",
    "\n",
    "Parametrize the curve $$\\langle e^{-t}, 1-2e^{-t}, 2e^{-t} \\rangle$$ for $t \\geq 0$ by arc length. "
   ]
  },
  {
   "cell_type": "markdown",
   "metadata": {},
   "source": [
    "<p style=\"padding-bottom:40%;\"> </p>"
   ]
  },
  {
   "cell_type": "markdown",
   "metadata": {
    "slideshow": {
     "slide_type": "slide"
    }
   },
   "source": [
    "## Curvature\n",
    "\n",
    "Which of these curves is \"curviest\"?"
   ]
  },
  {
   "cell_type": "code",
   "execution_count": 58,
   "metadata": {
    "hide_input": true,
    "jupyter": {
     "source_hidden": true
    },
    "slideshow": {
     "slide_type": "fragment"
    }
   },
   "outputs": [
    {
     "data": {
      "application/vnd.jupyter.widget-view+json": {
       "model_id": "f48702d515294127a8582f3d4944f91c",
       "version_major": 2,
       "version_minor": 0
      },
      "text/plain": [
       "interactive(children=(IntSlider(value=12, description='angle', max=120, min=-90, step=6), IntSlider(value=42, …"
      ]
     },
     "metadata": {},
     "output_type": "display_data"
    }
   ],
   "source": [
    "r1 = lambda t: np.array([t,2*t,-t])\n",
    "r2 = lambda t: np.array([t*cos(2*pi*t),t*sin(2*pi*t),t/4])\n",
    "r3 = lambda t: np.array([cos(pi*t),sin(pi*t),t])\n",
    "\n",
    "@interact\n",
    "def _(angle=(-90,120,6),vangle=(0,90,6)):\n",
    "    fig = plt.figure(figsize = (8,8))\n",
    "    ax = fig.add_subplot(111,projection='3d')\n",
    "    s = np.linspace(-1,1,300)\n",
    "    ax.view_init(vangle, angle)\n",
    "    ax.set_autoscale_on(True)\n",
    "    for c in 'xyz':\n",
    "        getattr(ax,f\"set_{c}lim\")([-1,1]);    \n",
    "        getattr(ax,f\"set_{c}label\")(f\"${c}$\",size=16)\n",
    "    # make axes lines\n",
    "    ax.plot([-1,1],[0,0],[0,0],'k')\n",
    "    ax.plot([0,0],[-1,1],[0,0],'k')\n",
    "    ax.plot([0,0],[0,0],[-1,1],'k')\n",
    "    for i,r in enumerate((r1,r2,r3)):\n",
    "        X,Y,Z = np.column_stack([r(x) for x in s])\n",
    "        ax.plot(X,Y,Z,alpha=1,color='byr'[i],lw=3,label=f\"curve {i+1}\");\n",
    "#     v,w =[r(t),(r(t+.01)-r(t-.01))/.07]\n",
    "    ax.legend()\n"
   ]
  },
  {
   "cell_type": "markdown",
   "metadata": {},
   "source": [
    "<p style=\"padding-bottom:40%;\"> </p>"
   ]
  },
  {
   "cell_type": "markdown",
   "metadata": {
    "slideshow": {
     "slide_type": "subslide"
    }
   },
   "source": [
    "#### Definition of curvature\n",
    "\n",
    "Recall that $\\vec T$ is the **unit tangent vector** to a curve $\\vec r(t)$. The **curvature** $\\kappa$ of $\\vec r$ at a given point is given by $$\\kappa = \\left|\\frac{d\\vec T}{ds} \\right|.$$"
   ]
  },
  {
   "cell_type": "markdown",
   "metadata": {
    "slideshow": {
     "slide_type": "fragment"
    }
   },
   "source": [
    "##### Formula\n",
    "\n",
    "Perhaps a more useful formula comes from $\\vec T'(t) = \\frac{d\\vec T}{ds} \\frac{ds}{dt} $, or \n",
    "\n",
    "$$\\kappa = \\frac{|\\vec T'(t)|}{|\\vec r'(t)|}.$$"
   ]
  },
  {
   "cell_type": "markdown",
   "metadata": {},
   "source": [
    "<p style=\"padding-bottom:40%;\"> </p>"
   ]
  },
  {
   "cell_type": "markdown",
   "metadata": {
    "slideshow": {
     "slide_type": "subslide"
    }
   },
   "source": [
    "### Example\n",
    "\n",
    "Find the curvature of a circle of radius $a$. "
   ]
  },
  {
   "cell_type": "code",
   "execution_count": 64,
   "metadata": {
    "jupyter": {
     "source_hidden": true
    }
   },
   "outputs": [
    {
     "data": {
      "application/vnd.jupyter.widget-view+json": {
       "model_id": "ff509e2d749d4f7baa77eedcb4651c2c",
       "version_major": 2,
       "version_minor": 0
      },
      "text/plain": [
       "interactive(children=(FloatSlider(value=1.0, description='a', max=10.0, min=1.0, step=0.3), FloatSlider(value=…"
      ]
     },
     "metadata": {},
     "output_type": "display_data"
    }
   ],
   "source": [
    "@interact(a=(1,10,.3),s=(-1,1,.01))\n",
    "def _(a=1,s=0):\n",
    "    t = linspace(-pi,pi,500)\n",
    "    plt.plot(a*cos(t/a),a*sin(t/a))\n",
    "    plt.xticks(arange(-1,a+1.5,.25))\n",
    "    plt.yticks(arange(-2,2,.25))\n",
    "    plt.quiver(a*cos(s/a),a*sin(s/a),-sin(s/a),cos(s/a),angles='xy', scale_units='xy', scale=1)\n",
    "    plt.xlim((a-2,a+1))\n",
    "    plt.ylim((-1.5,1.5))\n",
    "    plt.grid(True)"
   ]
  }
 ],
 "metadata": {
  "celltoolbar": "Slideshow",
  "kernelspec": {
   "display_name": "Python 3",
   "language": "python",
   "name": "python3"
  },
  "language_info": {
   "codemirror_mode": {
    "name": "ipython",
    "version": 3
   },
   "file_extension": ".py",
   "mimetype": "text/x-python",
   "name": "python",
   "nbconvert_exporter": "python",
   "pygments_lexer": "ipython3",
   "version": "3.7.6"
  },
  "rise": {
   "enable_chalkboard": true,
   "scroll": true,
   "theme": "sky",
   "transition": "concave"
  },
  "widgets": {
   "application/vnd.jupyter.widget-state+json": {
    "state": {},
    "version_major": 2,
    "version_minor": 0
   }
  }
 },
 "nbformat": 4,
 "nbformat_minor": 4
}
