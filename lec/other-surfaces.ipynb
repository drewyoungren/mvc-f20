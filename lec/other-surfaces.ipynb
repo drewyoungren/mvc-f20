{
 "cells": [
  {
   "cell_type": "code",
   "execution_count": 8,
   "metadata": {},
   "outputs": [],
   "source": [
    "import matplotlib.pyplot as plt\n",
    "import numpy as np\n",
    "from mpl_toolkits import mplot3d\n",
    "from ipywidgets import interact"
   ]
  },
  {
   "cell_type": "markdown",
   "metadata": {
    "slideshow": {
     "slide_type": "slide"
    }
   },
   "source": [
    "## Other Surfaces\n",
    "\n",
    "Planes arise from (affine) linear equations, i.e. the variables appear with degree 1. \n",
    "\n",
    "#### Definition\n",
    "\n",
    "A **quadric surface** in $\\RR^3$ is the solution set to an equation of the form $$ax^2+by^2+cz^2 + dx+ey+fz+g = 0$$ where at least one of $a,b,c$ is nonzero. These are explored in depth in [§2.6](https://openstax.org/books/calculus-volume-3/pages/2-6-quadric-surfaces). We will encounter them in detail later.\n",
    "\n",
    "We'll look at 1 example to finish off the discussion of lines. "
   ]
  },
  {
   "cell_type": "markdown",
   "metadata": {
    "slideshow": {
     "slide_type": "subslide"
    }
   },
   "source": [
    "#### Example\n",
    "\n",
    "The following equation yielsds a solution set called a **hyperboloid of 1 sheet.**.\n",
    "\n",
    "$$x^2 +2y^2- z^2 = 1$$\n",
    "\n",
    "Show there is a line through the point $(1,0,0)$ entirely contained on this surface. "
   ]
  },
  {
   "cell_type": "code",
   "execution_count": 9,
   "metadata": {
    "hide_input": true,
    "jupyter": {
     "source_hidden": true
    },
    "slideshow": {
     "slide_type": "fragment"
    }
   },
   "outputs": [
    {
     "data": {
      "application/vnd.jupyter.widget-view+json": {
       "model_id": "bb8819ef62144559b5e4fb32f8ec0d60",
       "version_major": 2,
       "version_minor": 0
      },
      "text/plain": [
       "interactive(children=(Dropdown(description='trace', options=('x', 'y', 'z'), value='x'), IntSlider(value=42, d…"
      ]
     },
     "metadata": {},
     "output_type": "display_data"
    }
   ],
   "source": [
    "@interact\n",
    "def _(trace=['x','y','z'],angle=(-30,120,6),line=False,m=(0.,1.)):\n",
    "    fig = plt.figure()\n",
    "    ax = fig.gca(projection='3d')\n",
    "    t = np.linspace(0,2*np.pi,50)\n",
    "    z = np.linspace(-4,4,41)\n",
    "    t,z = np.meshgrid(t,z)\n",
    "    X = np.sqrt(z**2 + 1)*np.cos(t)\n",
    "    Y = np.sqrt(z**2 + 1)*np.sin(t)/np.sqrt(2)\n",
    "    Z = z\n",
    "    ax.view_init(30, angle)\n",
    "    ax.contour(X,Y,Z,zdir=trace,offset=-4)\n",
    "    for c in 'xyz':\n",
    "        getattr(ax,f\"set_{c}lim\")([-4,4]);    \n",
    "        getattr(ax,f\"set_{c}label\")(f\"${c}$\",size=16)\n",
    "    ax.plot_surface(X,Y,Z,cmap='viridis',alpha=.5);\n",
    "    s = np.linspace(-4,4,41)\n",
    "    if line:\n",
    "        ax.plot(1+0*s,s/np.sqrt(2),m*s,'k',lw=3);"
   ]
  },
  {
   "cell_type": "code",
   "execution_count": null,
   "metadata": {},
   "outputs": [],
   "source": []
  }
 ],
 "metadata": {
  "kernelspec": {
   "display_name": "Python 3",
   "language": "python",
   "name": "python3"
  },
  "language_info": {
   "codemirror_mode": {
    "name": "ipython",
    "version": 3
   },
   "file_extension": ".py",
   "mimetype": "text/x-python",
   "name": "python",
   "nbconvert_exporter": "python",
   "pygments_lexer": "ipython3",
   "version": "3.7.6"
  }
 },
 "nbformat": 4,
 "nbformat_minor": 4
}
