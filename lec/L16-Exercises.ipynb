{
 "cells": [
  {
   "cell_type": "code",
   "execution_count": 3,
   "metadata": {},
   "outputs": [
    {
     "name": "stderr",
     "output_type": "stream",
     "text": [
      "ERROR:root:Internal Python error in the inspect module.\n",
      "Below is the traceback from this internal error.\n",
      "\n"
     ]
    },
    {
     "name": "stdout",
     "output_type": "stream",
     "text": [
      "Traceback (most recent call last):\n",
      "  File \"/opt/anaconda3/lib/python3.7/site-packages/IPython/core/interactiveshell.py\", line 3331, in run_code\n",
      "    exec(code_obj, self.user_global_ns, self.user_ns)\n",
      "  File \"<ipython-input-3-9f0e174743fe>\", line 2, in <module>\n",
      "    import matplotlib.pyplot as plt\n",
      "  File \"/opt/anaconda3/lib/python3.7/site-packages/matplotlib/__init__.py\", line 1015, in <module>\n",
      "    rcParams = rc_params()\n",
      "  File \"/opt/anaconda3/lib/python3.7/site-packages/matplotlib/__init__.py\", line 878, in rc_params\n",
      "    return rc_params_from_file(matplotlib_fname(), fail_on_error)\n",
      "  File \"/opt/anaconda3/lib/python3.7/site-packages/matplotlib/__init__.py\", line 731, in matplotlib_fname\n",
      "    for fname in gen_candidates():\n",
      "  File \"/opt/anaconda3/lib/python3.7/site-packages/matplotlib/__init__.py\", line 720, in gen_candidates\n",
      "    yield os.path.join(os.getcwd(), 'matplotlibrc')\n",
      "FileNotFoundError: [Errno 2] No such file or directory\n",
      "\n",
      "During handling of the above exception, another exception occurred:\n",
      "\n",
      "Traceback (most recent call last):\n",
      "  File \"/opt/anaconda3/lib/python3.7/site-packages/IPython/core/interactiveshell.py\", line 2044, in showtraceback\n",
      "    stb = value._render_traceback_()\n",
      "AttributeError: 'FileNotFoundError' object has no attribute '_render_traceback_'\n",
      "\n",
      "During handling of the above exception, another exception occurred:\n",
      "\n",
      "Traceback (most recent call last):\n",
      "  File \"/opt/anaconda3/lib/python3.7/site-packages/IPython/core/ultratb.py\", line 1148, in get_records\n",
      "    return _fixed_getinnerframes(etb, number_of_lines_of_context, tb_offset)\n",
      "  File \"/opt/anaconda3/lib/python3.7/site-packages/IPython/core/ultratb.py\", line 316, in wrapped\n",
      "    return f(*args, **kwargs)\n",
      "  File \"/opt/anaconda3/lib/python3.7/site-packages/IPython/core/ultratb.py\", line 350, in _fixed_getinnerframes\n",
      "    records = fix_frame_records_filenames(inspect.getinnerframes(etb, context))\n",
      "  File \"/opt/anaconda3/lib/python3.7/inspect.py\", line 1502, in getinnerframes\n",
      "    frameinfo = (tb.tb_frame,) + getframeinfo(tb, context)\n",
      "  File \"/opt/anaconda3/lib/python3.7/inspect.py\", line 1460, in getframeinfo\n",
      "    filename = getsourcefile(frame) or getfile(frame)\n",
      "  File \"/opt/anaconda3/lib/python3.7/inspect.py\", line 696, in getsourcefile\n",
      "    if getattr(getmodule(object, filename), '__loader__', None) is not None:\n",
      "  File \"/opt/anaconda3/lib/python3.7/inspect.py\", line 725, in getmodule\n",
      "    file = getabsfile(object, _filename)\n",
      "  File \"/opt/anaconda3/lib/python3.7/inspect.py\", line 709, in getabsfile\n",
      "    return os.path.normcase(os.path.abspath(_filename))\n",
      "  File \"/opt/anaconda3/lib/python3.7/posixpath.py\", line 383, in abspath\n",
      "    cwd = os.getcwd()\n",
      "FileNotFoundError: [Errno 2] No such file or directory\n"
     ]
    },
    {
     "ename": "FileNotFoundError",
     "evalue": "[Errno 2] No such file or directory",
     "output_type": "error",
     "traceback": [
      "\u001b[0;31m---------------------------------------------------------------------------\u001b[0m"
     ]
    }
   ],
   "source": [
    "import numpy as np\n",
    "import matplotlib.pyplot as plt\n",
    "from IPython.display import display, HTML, IFrame\n",
    "from ipywidgets import interact,fixed\n",
    "import pandas as pd\n",
    "from mpl_toolkits import mplot3d\n",
    "from mpl_toolkits.mplot3d import axes3d\n",
    "from matplotlib.patches import FancyArrowPatch,Rectangle\n",
    "from mpl_toolkits.mplot3d.art3d import Poly3DCollection\n",
    "from mpl_toolkits.mplot3d import proj3d\n",
    "\n",
    "plt.rcParams[\"figure.figsize\"] = [10, 10]\n",
    "\n",
    "from numpy.linalg import norm\n",
    "from numpy import cos,sin,tan,arctan,exp,log,pi,sqrt,arccos,linspace,array,arange,meshgrid,abs\n",
    "\n",
    "from scipy.integrate import quad,dblquad,tplquad"
   ]
  },
  {
   "cell_type": "markdown",
   "metadata": {},
   "source": [
    "## One-minute Review\n",
    "\n",
    "A homework question asked about an integral of the form \n",
    "\n",
    "$$ \\int_0^1\\int_0^z\\int_z^1 f\\,dx\\,dy\\,dz $$"
   ]
  },
  {
   "cell_type": "code",
   "execution_count": null,
   "metadata": {
    "hide_input": true,
    "jupyter": {
     "source_hidden": true
    },
    "slideshow": {
     "slide_type": "fragment"
    }
   },
   "outputs": [],
   "source": [
    "@interact(angle=(-0,90,6),a=(0.,1.,.05))\n",
    "def _(angle=-24,vangle=(0,90,6),a=0):\n",
    "    fig = plt.figure(figsize=(10,10))\n",
    "    ax= fig.add_subplot(111,projection='3d')\n",
    "    u = np.linspace(0,1,80)\n",
    "    v = np.linspace(0,1,80)\n",
    "    U,V = np.meshgrid(u,v)\n",
    "    X = U\n",
    "    Y = V\n",
    "    Z = np.ones_like(U)\n",
    "#     ax.plot_wireframe(X,Y,Z,rcount=20,ccount=20)\n",
    "#     ax.plot_surface(X,Y,0*X,rcount=20,ccount=20,color='gray',alpha=.4)\n",
    "    ax.view_init(vangle,angle)\n",
    "    \n",
    "    ax.plot_wireframe(U,V*(U),U,rcount=20,ccount=20,alpha=a)\n",
    "    ax.plot_wireframe(U*0+1,V*(U),U,rcount=20,ccount=20,alpha=a)\n",
    "    ax.plot_wireframe(U+V*(1-U),U,U,rcount=20,ccount=20,alpha=a)\n",
    "    ax.plot_surface(U,0*X,V*(U),rcount=20,ccount=20,color='gray',alpha=.4)\n",
    "    ax.plot_surface(U*0,U,U+V*(1-U),rcount=20,ccount=20,color='gray',alpha=.4)\n",
    "\n",
    "    for c in 'xyz':\n",
    "#         getattr(ax,f\"set_{c}lim\")([-1,1]);    \n",
    "        getattr(ax,f\"set_{c}label\")(f\"${c}$\",size=16)\n",
    "    "
   ]
  },
  {
   "cell_type": "markdown",
   "metadata": {
    "slideshow": {
     "slide_type": "subslide"
    }
   },
   "source": [
    "# Cylindrical/Spherical Coordinates\n",
    "\n",
    "### Quick Exercise\n",
    "\n",
    "We know the equations $x=1$, $y=1$, and $z=1$ represent planes perpendicular to the respective access. Identify each of the following sets in the new coordinates.\n",
    "\n",
    "  1. $r=1$\n",
    "  2. $\\theta = 1$\n",
    "  3. $\\rho = 1$\n",
    "  4. $\\phi = 1$"
   ]
  },
  {
   "cell_type": "code",
   "execution_count": null,
   "metadata": {
    "hide_input": false,
    "jupyter": {
     "source_hidden": true
    }
   },
   "outputs": [],
   "source": [
    "@interact\n",
    "def _(angle=(-90,90,6),coord=['r','theta','rho','phi']):\n",
    "    fig = plt.figure(figsize=(10,10))\n",
    "    ax=fig.add_subplot(111,projection='3d')\n",
    "    ax.view_init(30,angle)\n",
    "    u = v = np.linspace(0,1,100)\n",
    "    u,v = np.meshgrid(u,v)\n",
    "    if coord == 'r':\n",
    "        ax.plot_surface(cos(2*pi*v),sin(2*pi*v),2*u-1,alpha=.5)\n",
    "    elif coord == 'theta':\n",
    "        ax.plot_surface(sqrt(2)*v*cos(1),sqrt(2)*v*sin(1),2*u-1,alpha=.5)\n",
    "    elif coord == 'rho':\n",
    "        ax.plot_surface(sin(pi*u)*cos(2*pi*v),sin(pi*u)*sin(2*pi*v),cos(pi*u),alpha=.5)\n",
    "    elif coord == 'phi':\n",
    "        ax.plot_surface(sin(1)*u*cos(2*pi*v),sin(1)*u*sin(2*pi*v),cos(1)*u,alpha=.5)\n",
    "    ax.plot([-1,1],[0,0],[0,0],'k',lw=3)\n",
    "    ax.plot([0,0],[-1,1],[0,0],'k',lw=3)\n",
    "    ax.plot([0,0],[0,0],[-1,1],'k',lw=3)\n",
    "    for c in 'xyz':\n",
    "#         getattr(ax,f\"set_{c}lim\")([-1,1]);    \n",
    "        getattr(ax,f\"set_{c}label\")(f\"${c}$\",size=16)\n",
    "    "
   ]
  },
  {
   "cell_type": "markdown",
   "metadata": {},
   "source": [
    "## Exercise\n",
    "\n",
    "Each row of the table below represents a point in $\\mathbb{R}^3$. Fill in the missing values.\n",
    "\n",
    "<table>\n",
    "    <hr>\n",
    "    <td> $x$ </td>    <td> $y$ </td>    <td> $z$ </td>\n",
    "    <td> $r$ </td>    <td> $\\theta$ </td>    <td> $\\rho$ </td>    <td> $\\phi$ </td>\n",
    "    </hr>\n",
    "    <tr>\n",
    "    <td> $2$ </td>    <td> $2$ </td>    <td> $2$ </td>\n",
    "    <td>  </td>    <td>  </td>    <td>  </td>    <td>  </td>\n",
    "    </tr>\n",
    "    <tr>\n",
    "    <td>   </td>    <td>   </td>    <td> $2$ </td>\n",
    "    <td> $3/2$ </td>    <td> $\\pi$ </td>    <td>  </td>    <td>  </td>\n",
    "    </tr>\n",
    "    <tr>\n",
    "    <td>  </td>    <td>  </td>    <td>  </td>\n",
    "    <td>  </td>    <td> $\\pi/6$ </td>    <td> $\\sqrt{2}$ </td>    <td> $3\\pi/4$</td>\n",
    "    </tr>\n",
    "    <tr>\n",
    "    <td> $5$ </td>    <td> $1$ </td>    <td>  </td>\n",
    "    <td>  </td>    <td>  </td>    <td>  </td>    <td> $2\\pi/3$ </td>\n",
    "    </tr>\n",
    "</table>"
   ]
  },
  {
   "cell_type": "markdown",
   "metadata": {},
   "source": [
    "## Latitude/Longitude\n",
    "\n",
    "The surface of the earth is [roughly](https://en.wikipedia.org/wiki/Figure_of_the_Earth#/media/File:Earth_oblateness_to_scale.svg) a sphere. \n",
    "\n",
    "Longitude measures degrees east (+) or west (-) from the Greenwich meridiean (a line from the North Pole to the South Pole through Greenwich, England). Latitude measures degrees north (+) or south (-) of the equator. \n",
    "\n",
    "#### Quick questions\n",
    "\n",
    "How would you relate these to our definitions of $\\phi$ and $\\theta$?\n",
    "\n",
    "Using this, what are the spherical coordinates of Morningside Heights?\n",
    "\n",
    "Where is the point on earth where $\\phi = \\frac\\pi4 = -\\theta$?"
   ]
  },
  {
   "cell_type": "markdown",
   "metadata": {},
   "source": [
    "## Example\n",
    "\n",
    "Find, in terms of constant $a>0$, the centroid of the solid region\n",
    "\n",
    "$$ 0 \\leq z \\leq a^2 - x^2 - y^2.$$"
   ]
  },
  {
   "cell_type": "code",
   "execution_count": null,
   "metadata": {
    "hide_input": true,
    "jupyter": {
     "source_hidden": true
    }
   },
   "outputs": [],
   "source": [
    "@interact\n",
    "def _(angle=(0,90,6)):\n",
    "    fig = plt.figure(figsize=(10,10))\n",
    "    ax=fig.add_subplot(111,projection='3d')\n",
    "    ax.view_init(angle,30)\n",
    "    u = v = np.linspace(0,1,100)\n",
    "    u,v = np.meshgrid(u,v)\n",
    "\n",
    "    ax.plot_surface(sqrt(2)*u*cos(2*pi*v),sqrt(2)*u*sin(2*pi*v),2*(1-u**2),alpha=.5)\n",
    "    ax.plot_wireframe(sqrt(2)*u*cos(2*pi*v),sqrt(2)*u*sin(2*pi*v),2*(1-u**2),alpha=1,color='k',ccount=10,rcount=10)\n",
    "    ax.plot([-1,1],[0,0],[0,0],'k',lw=3)\n",
    "    ax.plot([0,0],[-1,1],[0,0],'k',lw=3)\n",
    "    ax.plot([0,0],[0,0],[0,2],'k',lw=3)\n",
    "    for c in 'xyz':\n",
    "#         getattr(ax,f\"set_{c}lim\")([-1,1]);    \n",
    "        getattr(ax,f\"set_{c}label\")(f\"${c}$\",size=16)\n",
    "    "
   ]
  },
  {
   "cell_type": "markdown",
   "metadata": {
    "slideshow": {
     "slide_type": "subslide"
    }
   },
   "source": [
    "## Example\n",
    "\n",
    "Find the mass of a right cone with height $h$ and radius (at base) $R$. and uniform density $\\rho$."
   ]
  },
  {
   "cell_type": "code",
   "execution_count": null,
   "metadata": {
    "hide_input": true,
    "jupyter": {
     "source_hidden": true
    }
   },
   "outputs": [],
   "source": [
    "@interact\n",
    "def _(angle=(0,90,6)):\n",
    "    fig = plt.figure(figsize=(10,10))\n",
    "    ax=fig.add_subplot(111,projection='3d')\n",
    "    ax.view_init(angle,30)\n",
    "    u = v = np.linspace(0,1,100)\n",
    "    u,v = np.meshgrid(u,v)\n",
    "\n",
    "    ax.plot_surface(sin(1)*u*cos(2*pi*v),sin(1)*u*sin(2*pi*v),2-2*u,alpha=.5)\n",
    "    ax.plot([-1,1],[0,0],[0,0],'k',lw=3)\n",
    "    ax.plot([0,0],[-1,1],[0,0],'k',lw=3)\n",
    "    ax.plot([0,0],[0,0],[0,2],'k',lw=3)\n",
    "    for c in 'xyz':\n",
    "#         getattr(ax,f\"set_{c}lim\")([-1,1]);    \n",
    "        getattr(ax,f\"set_{c}label\")(f\"${c}$\",size=16)\n",
    "    "
   ]
  },
  {
   "cell_type": "markdown",
   "metadata": {
    "slideshow": {
     "slide_type": "subslide"
    }
   },
   "source": [
    "<br>\n",
    "<div style=\"background:#cfcfee\">**Caution!** When doing these sorts of applications, do not confuse the density $\\rho$ with the polar coordinate $\\rho$. Choose variables wisely.</div>"
   ]
  },
  {
   "cell_type": "markdown",
   "metadata": {
    "slideshow": {
     "slide_type": "subslide"
    }
   },
   "source": [
    "Find the moment of inertia relative to its central axis. "
   ]
  },
  {
   "cell_type": "markdown",
   "metadata": {
    "slideshow": {
     "slide_type": "subslide"
    }
   },
   "source": [
    "## Example\n",
    "\n",
    "Find the centroid of a solid quarter-sphere of radius $R$ and uniform density."
   ]
  },
  {
   "cell_type": "code",
   "execution_count": null,
   "metadata": {
    "hide_input": true,
    "jupyter": {
     "source_hidden": true
    }
   },
   "outputs": [],
   "source": [
    "@interact\n",
    "def _(angle=(-45,135,6),vangle=(0,90,6)):\n",
    "    fig = plt.figure(figsize=(10,10))\n",
    "    ax=fig.add_subplot(111,projection='3d')\n",
    "    ax.view_init(vangle,angle)\n",
    "    u = v = np.linspace(0,1,100)\n",
    "    u,v = np.meshgrid(u,v)\n",
    "\n",
    "    ax.plot_wireframe(sin(pi*u)*cos(pi/2*v),sin(pi*u)*sin(pi/2*v),cos(pi*u),alpha=.8,rcount=20)\n",
    "    ax.plot_surface(v*sin(pi*u)*cos(pi/2),v*sin(pi*u)*sin(pi/2),v*cos(pi*u),alpha=.3,color='g')\n",
    "    ax.plot_surface(v*sin(pi*u)*cos(0),v*sin(pi*u)*sin(0),v*cos(pi*u),alpha=.3,color='g')\n",
    "    ax.plot([-1,1],[0,0],[0,0],'k',lw=3)\n",
    "    ax.plot([0,0],[-1,1],[0,0],'k',lw=3)\n",
    "    ax.plot([0,0],[0,0],[-1,1],'k',lw=3)\n",
    "    for c in 'xyz':\n",
    "#         getattr(ax,f\"set_{c}lim\")([-1,1]);    \n",
    "        getattr(ax,f\"set_{c}label\")(f\"${c}$\",size=16)\n",
    "    "
   ]
  },
  {
   "cell_type": "markdown",
   "metadata": {
    "slideshow": {
     "slide_type": "subslide"
    }
   },
   "source": [
    "## Example\n",
    "\n",
    "Find the moment of inertia of a solid sphere of radius $R$ relative to a central axis.\n",
    "\n",
    "The **radius of gyration** of a body is the distance from the axis of a point-mass with the same mass and moment of inertia. Find it for a sphere."
   ]
  },
  {
   "cell_type": "code",
   "execution_count": null,
   "metadata": {
    "hide_input": true,
    "jupyter": {
     "source_hidden": true
    }
   },
   "outputs": [],
   "source": [
    "@interact\n",
    "def _(angle=(0,90,6)):\n",
    "    tilt = 23.5*pi/180\n",
    "    fig = plt.figure(figsize=(10,10))\n",
    "    ax=fig.add_subplot(111,projection='3d')\n",
    "    ax.view_init(angle,30)\n",
    "    u = v = np.linspace(0,1,100)\n",
    "    u,v = np.meshgrid(u,v)\n",
    "\n",
    "    ax.plot_wireframe(sin(pi*u)*cos(2*pi*v),sin(pi*u)*sin(2*pi*v),cos(pi*u),alpha=1,rcount=12,ccount = 20)\n",
    "    ax.plot_surface(sin(pi*u)*cos(2*pi*v),sin(pi*u)*sin(2*pi*v),cos(pi*u),alpha=.2,color='g')\n",
    "    ax.plot([-1,1],[0,0],[0,0],'k',lw=3)\n",
    "    ax.plot([0,0],[-1,1],[0,0],'k',lw=3)\n",
    "    ax.plot([0,0],[0,0],[-1,1],'k',lw=3)\n",
    "    for c in 'xyz':\n",
    "#         getattr(ax,f\"set_{c}lim\")([-1,1]);    \n",
    "        getattr(ax,f\"set_{c}label\")(f\"${c}$\",size=16)\n",
    "    "
   ]
  },
  {
   "cell_type": "markdown",
   "metadata": {
    "slideshow": {
     "slide_type": "subslide"
    }
   },
   "source": [
    "## Example\n",
    "\n",
    "The Earth has a mass of roughly $6\\times10^{24}$ kg. Assuming it's uniformly dense, what is the mass of the portion above the arctic circle ($66.5^\\circ$N)?"
   ]
  },
  {
   "cell_type": "code",
   "execution_count": null,
   "metadata": {
    "hide_input": true,
    "jupyter": {
     "source_hidden": true
    }
   },
   "outputs": [],
   "source": [
    "@interact\n",
    "def _(angle=(0,90,6)):\n",
    "    tilt = 23.5*pi/180\n",
    "    fig = plt.figure(figsize=(10,10))\n",
    "    ax=fig.add_subplot(111,projection='3d')\n",
    "    ax.view_init(angle,30)\n",
    "    u = v = np.linspace(0,1,100)\n",
    "    u,v = np.meshgrid(u,v)\n",
    "\n",
    "    ax.plot_wireframe(sin(tilt*u)*cos(2*pi*v),sin(tilt*u)*sin(2*pi*v),cos(tilt*u),alpha=1,rcount=10,ccount = 5)\n",
    "    ax.plot_wireframe(sin((1-u)*tilt + pi*u)*cos(2*pi*v),sin((1-u)*tilt + pi*u)*sin(2*pi*v),cos((1-u)*tilt + pi*u),rcount=10,ccount = np.ceil(5*(pi-tilt)/tilt),alpha=.4)\n",
    "    ax.plot_surface(sin(tilt*u)*cos(2*pi*v),sin(tilt*u)*sin(2*pi*v),0*u + cos(tilt),alpha=.3,color='g')\n",
    "    ax.plot([-1,1],[0,0],[0,0],'k',lw=3)\n",
    "    ax.plot([0,0],[-1,1],[0,0],'k',lw=3)\n",
    "    ax.plot([0,0],[0,0],[-1,1],'k',lw=3)\n",
    "    for c in 'xyz':\n",
    "#         getattr(ax,f\"set_{c}lim\")([-1,1]);    \n",
    "        getattr(ax,f\"set_{c}label\")(f\"${c}$\",size=16)\n",
    "    "
   ]
  },
  {
   "cell_type": "code",
   "execution_count": null,
   "metadata": {},
   "outputs": [],
   "source": [
    "alpha = 23.5*pi/180"
   ]
  },
  {
   "cell_type": "code",
   "execution_count": null,
   "metadata": {},
   "outputs": [],
   "source": [
    "R = 6371"
   ]
  },
  {
   "cell_type": "code",
   "execution_count": null,
   "metadata": {},
   "outputs": [],
   "source": [
    "tplquad(lambda rho, ph, th: rho**2*sin(ph),0,2*pi,0,alpha,lambda th,ph: R*cos(alpha)/cos(ph),R)"
   ]
  },
  {
   "cell_type": "markdown",
   "metadata": {
    "slideshow": {
     "slide_type": "subslide"
    }
   },
   "source": [
    "## Exercise\n",
    "\n",
    "Set up a triple integral to find the volume of a torus with radii $a < b$."
   ]
  },
  {
   "cell_type": "code",
   "execution_count": null,
   "metadata": {
    "hide_input": false,
    "jupyter": {
     "source_hidden": true
    }
   },
   "outputs": [],
   "source": [
    "@interact\n",
    "def _(angle=(0,90,6)):\n",
    "    tilt = 23.5*pi/180\n",
    "    fig = plt.figure(figsize=(10,10))\n",
    "    ax=fig.add_subplot(111,projection='3d')\n",
    "    ax.view_init(angle,30)\n",
    "    u = v = np.linspace(0,1,100)\n",
    "    u,v = np.meshgrid(u,v)\n",
    "\n",
    "    ax.plot_wireframe((1+1/2*sin(2*pi*u))*cos(2*pi*v),(1+1/2*sin(2*pi*u))*sin(2*pi*v),(1/2*cos(2*pi*u)),alpha=1,rcount=10,ccount = 10)\n",
    "    ax.plot_surface((1+1/2*sin(2*pi*u))*cos(2*pi*v),(1+1/2*sin(2*pi*u))*sin(2*pi*v),(1/2*cos(2*pi*u)),alpha=.3,color='g')\n",
    "    ax.plot([-1.5,1.5],[0,0],[0,0],'k',lw=3)\n",
    "    ax.plot([0,0],[-1.5,1.5],[0,0],'k',lw=3)\n",
    "    ax.plot([0,0],[0,0],[-1.5,1.5],'k',lw=3)\n",
    "    for c in 'xyz':\n",
    "#         getattr(ax,f\"set_{c}lim\")([-1,1]);    \n",
    "        getattr(ax,f\"set_{c}label\")(f\"${c}$\",size=16)\n",
    "    "
   ]
  },
  {
   "cell_type": "code",
   "execution_count": null,
   "metadata": {},
   "outputs": [],
   "source": []
  }
 ],
 "metadata": {
  "kernelspec": {
   "display_name": "Python 3",
   "language": "python",
   "name": "python3"
  },
  "language_info": {
   "codemirror_mode": {
    "name": "ipython",
    "version": 3
   },
   "file_extension": ".py",
   "mimetype": "text/x-python",
   "name": "python",
   "nbconvert_exporter": "python",
   "pygments_lexer": "ipython3",
   "version": "3.7.6"
  },
  "widgets": {
   "application/vnd.jupyter.widget-state+json": {
    "state": {},
    "version_major": 2,
    "version_minor": 0
   }
  }
 },
 "nbformat": 4,
 "nbformat_minor": 4
}
