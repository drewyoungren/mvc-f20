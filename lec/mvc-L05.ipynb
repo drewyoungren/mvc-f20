{
 "cells": [
  {
   "cell_type": "code",
   "execution_count": 75,
   "metadata": {
    "slideshow": {
     "slide_type": "skip"
    }
   },
   "outputs": [],
   "source": [
    "import numpy as np\n",
    "import matplotlib.pyplot as plt\n",
    "from IPython.display import display, HTML, IFrame\n",
    "from ipywidgets import interact,fixed\n",
    "import pandas as pd\n",
    "from numpy import cos,sin,pi\n",
    "from mpl_toolkits import mplot3d\n",
    "from mpl_toolkits.mplot3d.art3d import Poly3DCollection\n",
    "\n",
    "\n",
    "plt.rcParams[\"figure.figsize\"] = [7,7]\n",
    "\n",
    "from numpy import cos,sin,tan,arctan,exp,log,pi\n",
    "from numpy.linalg import norm"
   ]
  },
  {
   "cell_type": "markdown",
   "metadata": {
    "slideshow": {
     "slide_type": "notes"
    }
   },
   "source": [
    "$\\newcommand{\\RR}{\\mathbb{R}}$\n",
    "$\\newcommand{\\bv}[1]{\\begin{bmatrix} #1 \\end{bmatrix}}$\n",
    "$\\renewcommand{\\vec}{\\mathbf}$\n"
   ]
  },
  {
   "cell_type": "markdown",
   "metadata": {
    "hide_input": true,
    "slideshow": {
     "slide_type": "slide"
    }
   },
   "source": [
    "## Announcements\n",
    "\n",
    "  - Quiz 2 this week.\n",
    "    - Thurs 1900–Fri 1900 (strict)\n",
    "    - Lines and planes and products\n",
    "  - Homework 3 due 9/29\n",
    "  - CA Help Room open \n",
    "    - Use link on Canvas front page. \n",
    "    "
   ]
  },
  {
   "cell_type": "markdown",
   "metadata": {
    "slideshow": {
     "slide_type": "slide"
    }
   },
   "source": [
    "# One-minute Review\n",
    "\n",
    "#### Dot Products\n",
    "\n",
    "Fix $\\vec a$, a nonzero vector. One way to think about the dot product is that it \"grades space into level perpendicular to $\\vec a$.\""
   ]
  },
  {
   "cell_type": "code",
   "execution_count": 12,
   "metadata": {
    "hide_input": true,
    "jupyter": {
     "source_hidden": true
    },
    "slideshow": {
     "slide_type": "fragment"
    }
   },
   "outputs": [
    {
     "data": {
      "application/vnd.jupyter.widget-view+json": {
       "model_id": "4c51684ed4e94cd4baee724fe1d81f16",
       "version_major": 2,
       "version_minor": 0
      },
      "text/plain": [
       "interactive(children=(FloatSlider(value=1.0, description='t', max=2.0, min=-2.0), FloatSlider(value=0.5, descr…"
      ]
     },
     "metadata": {},
     "output_type": "display_data"
    }
   ],
   "source": [
    "@interact(t = (-2,2.),s = (-2,2.))\n",
    "def _(t = 1,s = 1/2):\n",
    "    fig = plt.figure()\n",
    "    ax = fig.gca()\n",
    "    x = z = np.linspace(-2,2,41)\n",
    "    x,z = np.meshgrid(x,z)\n",
    "    \n",
    "#     ax.view_init(30, angle)\n",
    "    ax.pcolor(x,z,t*x + s*z,vmin=-3,vmax=3)\n",
    "    cp = ax.contour(x,z,t*x + s*z,levels=np.arange(-3,3,.25),colors=\"k\")\n",
    "    ax.arrow(0,0,t,s,head_width=.08,length_includes_head=True)\n",
    "    ax.clabel(cp,fmt='%1.2f'); # inline counour labels.\n",
    "    ax.grid(True)\n",
    "    for c in 'xy':\n",
    "        getattr(ax,f\"set_{c}lim\")([-2,2]);    \n",
    "        getattr(ax,f\"set_{c}label\")(f\"${c}$\",size=16)\n",
    "#     ax.plot_surface(X,Y,Z,cmap='viridis',alpha=.5);"
   ]
  },
  {
   "cell_type": "markdown",
   "metadata": {
    "slideshow": {
     "slide_type": "fragment"
    }
   },
   "source": [
    "## Space Curves"
   ]
  },
  {
   "cell_type": "markdown",
   "metadata": {
    "slideshow": {
     "slide_type": "fragment"
    }
   },
   "source": [
    "A **space curve** (or **vector-valued function**) has the following form.\n",
    "\n",
    "$$\\vec r(t) = \\bv{x(t) \\\\ y(t) \\\\ z(t)}$$\n",
    "\n",
    "The calculus of space curves passes easily to the component functions.\n",
    "\n",
    "$$\\lim_{t \\to a} \\vec r(t) = \\bv{\\lim_{t \\to a} x(t) \\\\\\lim_{t \\to a} y(t) \\\\ \\lim_{t \\to a} z(t) }  \\qquad \\vec r'(t) = \\lim_{h \\to 0} \\frac{\\vec r(t+h) - \\vec r(t)}{h} = \\bv{x'(t) \\\\ y'(t) \\\\ z'(t)}$$ "
   ]
  },
  {
   "cell_type": "markdown",
   "metadata": {
    "slideshow": {
     "slide_type": "subslide"
    }
   },
   "source": [
    "$\\vec r'(a)$ gives the tangent vector to the curve at $\\vec r(t)$."
   ]
  },
  {
   "cell_type": "code",
   "execution_count": 76,
   "metadata": {
    "hide_input": true,
    "jupyter": {
     "source_hidden": true
    },
    "slideshow": {
     "slide_type": "fragment"
    }
   },
   "outputs": [
    {
     "data": {
      "application/vnd.jupyter.widget-view+json": {
       "model_id": "cefd7a3b39f246a1980566eed0f4227b",
       "version_major": 2,
       "version_minor": 0
      },
      "text/plain": [
       "interactive(children=(FloatSlider(value=1.0, description='h', max=1.0, min=-1.0, step=0.05), Output()), _dom_c…"
      ]
     },
     "metadata": {},
     "output_type": "display_data"
    }
   ],
   "source": [
    "\n",
    "@interact(h=(-1,1,.05),r=fixed(lambda t: np.array([- t*cos(t),t*sin(t)])))\n",
    "def _(h=1):\n",
    "    fig = plt.figure(figsize = (10,6))\n",
    "    ax = fig.add_subplot(111)\n",
    "    s = np.linspace(0,pi,300)\n",
    "    ax.set_autoscale_on(True)\n",
    "    for c in 'xy':\n",
    "        getattr(ax,f\"set_{c}label\")(f\"${c}$\",size=16)\n",
    "    X,Y = np.column_stack([r(x) for x in s])\n",
    "    # make axes lines\n",
    "    ax.plot(X,Y,alpha=1,lw=3);\n",
    "    ax.plot([-1,pi],[0,0],'k')\n",
    "    ax.plot([0,0],[0,pi],'k')\n",
    "    v = r(pi/2+h)-r(pi/2)\n",
    "    ax.quiver([0,0],[pi/2,pi/2],[v[0],h == 0 and pi/2 or v[0]/h ],[v[1],h == 0 and 1 or v[1]/h],angles='xy', scale_units='xy', scale=1)"
   ]
  },
  {
   "cell_type": "markdown",
   "metadata": {
    "slideshow": {
     "slide_type": "slide"
    }
   },
   "source": [
    "# Lecture 05\n",
    "\n",
    "  - Objectives\n",
    "\n",
    "    - Compute limits, derivatives, and integrals of vector-valued functions.\n",
    "    - Interpret first and second derivatives.\n",
    "    - Solve motion problems.\n",
    "  \n",
    "  - Resources\n",
    "    - Content\n",
    "      - Stewart: §13.2, §13.4\n",
    "      - New Strang:  [§3.2](https://openstax.org/books/calculus-volume-3/pages/3-2-calculus-of-vector-valued-functions)\n",
    "      [§3.4](https://openstax.org/books/calculus-volume-3/pages/3-4-motion-in-space)\n",
    "    - Visualization\n",
    "      - [CalcPlot3D](https://www.monroecc.edu/faculty/paulseeburger/calcnsf/CalcPlot3D/)\n",
    "    - Practice\n",
    "      - Mooculus: \n",
    "        - [Calculus of Vector-valued Functions](https://ximera.osu.edu/mooculus/calculus3/calculusAndVectorValuedFunctions/titlePage) \n",
    "        - [Motion and Paths in Space](https://ximera.osu.edu/mooculus/calculus3/motionAndPathsInSpace/titlePage)\n",
    "\n",
    "    - Extras\n",
    "      - CalcBLUE: \n",
    "        - [Derivatives of Curves](https://youtu.be/8WzHSgE0Kus) \n",
    "        - [Vector Calculus and Motion](https://www.youtube.com/watch?v=rq4kxVFnOUA&index=48&list=PL8erL0pXF3JYm7VaTdKDaWc8Q3FuP8Sa7)"
   ]
  },
  {
   "cell_type": "markdown",
   "metadata": {
    "slideshow": {
     "slide_type": "subslide"
    }
   },
   "source": [
    "### Examples\n",
    "\n",
    "It is important one start with simple curves. For each curve below:\n",
    "  - Find a parameterization $\\vec r(t)$.\n",
    "  - Compute and plot the tangent vector $\\vec r'(t)$ for several values of $t$."
   ]
  },
  {
   "cell_type": "code",
   "execution_count": 26,
   "metadata": {
    "hide_input": true,
    "jupyter": {
     "source_hidden": true
    },
    "slideshow": {
     "slide_type": "fragment"
    }
   },
   "outputs": [
    {
     "data": {
      "application/vnd.jupyter.widget-view+json": {
       "model_id": "86c465b3d8d4475c9f721f5897870aeb",
       "version_major": 2,
       "version_minor": 0
      },
      "text/plain": [
       "interactive(children=(FloatSlider(value=0.0, description='t', max=1.0, min=-1.0, step=0.05), Dropdown(descript…"
      ]
     },
     "metadata": {},
     "output_type": "display_data"
    }
   ],
   "source": [
    "r1 = lambda t: np.array([-1*2*t,1/4+1/2*2*t])\n",
    "r2 = lambda t: np.array([cos(2*pi*t),sin(2*pi*t)])\n",
    "# r3 = lambda t: np.array([cos(8*pi*t),sin(3*pi*t),sin(7*pi*t)])\n",
    "\n",
    "@interact\n",
    "def _(t=(-1,1,.05),r={\"line\":r1, \"circle\": r2},tangent=False):\n",
    "    fig = plt.figure(figsize = (7,7))\n",
    "    ax = fig.add_subplot(111)\n",
    "    s = np.linspace(-1,1,300)\n",
    "#     ax.set_autoscale_on(True)\n",
    "    for c in 'xy':\n",
    "        getattr(ax,f\"set_{c}lim\")([-1.1,1.1]);    \n",
    "        getattr(ax,f\"set_{c}label\")(f\"${c}$\",size=16)\n",
    "    X,Y = np.column_stack([r(x) for x in s])\n",
    "    # make axes lines\n",
    "    ax.plot([-1.1,1.1],[0,0],'k')\n",
    "    ax.plot([0,0],[-1.1,1.1],'k')\n",
    "    plt.grid(True)\n",
    "#     ax.plot([0,0],[0,0],[-1,1],'k')\n",
    "    ax.plot(X,Y,alpha=1,lw=3);\n",
    "    ax.arrow(0,0,r(t)[0],r(t)[1],head_width=.07,length_includes_head=True)\n",
    "    if tangent:\n",
    "        v = (r(t + .005) - r(t - .005))\n",
    "        v = v*.5/np.linalg.norm(v)\n",
    "        ax.arrow(r(t)[0],r(t)[1],v[0],v[1],head_width=.07,length_includes_head=True)"
   ]
  },
  {
   "cell_type": "markdown",
   "metadata": {
    "slideshow": {
     "slide_type": "slide"
    }
   },
   "source": [
    "### Example\n",
    "\n",
    "Parametrize the curve of the intersection of the cylinder $x^2 +y^2 =4 $ and the plane $x-2y+z=4$."
   ]
  },
  {
   "cell_type": "code",
   "execution_count": 77,
   "metadata": {
    "hide_input": true,
    "jupyter": {
     "source_hidden": true
    },
    "slideshow": {
     "slide_type": "fragment"
    }
   },
   "outputs": [
    {
     "data": {
      "application/vnd.jupyter.widget-view+json": {
       "model_id": "bef57634000c43be8b0b8ae711a4a377",
       "version_major": 2,
       "version_minor": 0
      },
      "text/plain": [
       "interactive(children=(IntSlider(value=0, description='angle', max=96, min=-96, step=6), Output()), _dom_classe…"
      ]
     },
     "metadata": {},
     "output_type": "display_data"
    }
   ],
   "source": [
    "@interact\n",
    "def _(angle=(-96,96,6)):\n",
    "    fig = plt.figure()\n",
    "    ax = fig.gca(projection='3d')\n",
    "    x = y = np.linspace(-1,1,101)\n",
    "    x,y = np.meshgrid(x,y)\n",
    "    X = 2*cos(2*pi*x)\n",
    "    Y = 2*sin(2*pi*x)\n",
    "    Z = 4*y+3\n",
    "    ax.plot_surface(X,Y,Z,alpha=.6,cmap='ocean');\n",
    "    X = 2*x\n",
    "    Y = 2*y\n",
    "    Z = 4-X+2*Y\n",
    "    ax.plot_surface(X,Y,Z,alpha=1,color='purple')\n",
    "    for c in 'xy':\n",
    "            getattr(ax,f\"set_{c}lim\")([-2.5,2.5]);    \n",
    "            getattr(ax,f\"set_{c}label\")(f\"${c}$\",size=16)\n",
    "    ax.set_zlim=([0,8])\n",
    "    ax.view_init(20,angle)"
   ]
  },
  {
   "cell_type": "markdown",
   "metadata": {},
   "source": [
    "<p style=\"padding-bottom:40%;\"> </p>"
   ]
  },
  {
   "cell_type": "markdown",
   "metadata": {
    "slideshow": {
     "slide_type": "slide"
    }
   },
   "source": [
    "## Properties of the derivative\n",
    "\n",
    "$$\\frac{d}{dt} (c\\vec r(t)) = c \\vec r'(t)$$"
   ]
  },
  {
   "cell_type": "markdown",
   "metadata": {
    "slideshow": {
     "slide_type": "fragment"
    }
   },
   "source": [
    "$$\\frac{d}{dt} (\\vec q(t) + \\vec r(t)) = \\vec q'(t) + \\vec r'(t)$$"
   ]
  },
  {
   "cell_type": "markdown",
   "metadata": {
    "slideshow": {
     "slide_type": "fragment"
    }
   },
   "source": [
    "$$\\frac{d}{dt} (f(t) \\vec r(t)) = f'(t)\\vec r(t) +  f(t) \\vec r'(t)$$"
   ]
  },
  {
   "cell_type": "markdown",
   "metadata": {
    "slideshow": {
     "slide_type": "fragment"
    }
   },
   "source": [
    "$$\\frac{d}{dt} (\\vec q(t) \\cdot \\vec r(t)) = \\vec q'(t)\\cdot\\vec r(t) + \\vec q(t) \\cdot \\vec r'(t)$$"
   ]
  },
  {
   "cell_type": "markdown",
   "metadata": {
    "slideshow": {
     "slide_type": "fragment"
    }
   },
   "source": [
    "$$\\frac{d}{dt} (\\vec q(t) \\times \\vec r(t)) = \\vec q'(t)\\times\\vec r(t) + \\vec q(t) \\times \\vec r'(t)$$"
   ]
  },
  {
   "cell_type": "markdown",
   "metadata": {
    "slideshow": {
     "slide_type": "fragment"
    }
   },
   "source": [
    "$$\\frac{d}{dt} \\vec r(f(t)) =  f'(t)\\vec r'(f(t))$$"
   ]
  },
  {
   "cell_type": "markdown",
   "metadata": {
    "slideshow": {
     "slide_type": "subslide"
    }
   },
   "source": [
    "## Example\n",
    "\n",
    "Let $\\vec r(t)$ be a differentiable curve restricted to the surface of the sphere $x^2 + y^2 +z^2 = 16$. Show that the tangent vector and the position vector are orthogonal at each input $t$.  "
   ]
  },
  {
   "cell_type": "code",
   "execution_count": 49,
   "metadata": {
    "hide_input": true,
    "jupyter": {
     "source_hidden": true
    },
    "slideshow": {
     "slide_type": "fragment"
    }
   },
   "outputs": [
    {
     "data": {
      "image/png": "[encoded data removed]",
      "text/plain": [
       "<Figure size 504x504 with 1 Axes>"
      ]
     },
     "metadata": {
      "needs_background": "light"
     },
     "output_type": "display_data"
    }
   ],
   "source": [
    "fig = plt.figure()\n",
    "ax = fig.gca(projection='3d')\n",
    "x = np.linspace(0,1,200)\n",
    "y = np.linspace(-1,1,400)\n",
    "x,y = np.meshgrid(x,y)\n",
    "# X = 2*cos(2*pi*x)\n",
    "# Y = 2*sin(2*pi*x)\n",
    "# Z = 4*y+3\n",
    "ax.plot_surface(X,Y,Z,alpha=.6,cmap='ocean');\n",
    "X = sin(pi*x)*cos(pi*y)\n",
    "Y = sin(pi*x)*sin(pi*y)\n",
    "Z = cos(pi*x)\n",
    "ax.plot_surface(X,Y,Z,alpha=.13,cmap='ocean')\n",
    "for c in 'xyz':\n",
    "        getattr(ax,f\"set_{c}lim\")([-1.1,1.1]);    \n",
    "        getattr(ax,f\"set_{c}label\")(f\"${c}$\",size=16)\n",
    "vs = [np.array((cos(.9*t),-sin(t)**2,sin(4.2*t+.05))) for t in np.linspace(0,3*pi,800)]\n",
    "xs,ys,zs = np.column_stack([v/norm(v) for v in vs])\n",
    "plt.plot(xs,ys,zs,zorder=3,lw=3);"
   ]
  },
  {
   "cell_type": "markdown",
   "metadata": {},
   "source": [
    "<p style=\"padding-bottom:40%;\"> </p>"
   ]
  },
  {
   "cell_type": "markdown",
   "metadata": {
    "slideshow": {
     "slide_type": "slide"
    }
   },
   "source": [
    "## Smoothness\n",
    "\n",
    "A differentiable curve $\\vec r (t)$ is said to be **smooth** provided for all $t$, $|\\vec r'(t)| \\neq 0$.\n"
   ]
  },
  {
   "cell_type": "markdown",
   "metadata": {
    "slideshow": {
     "slide_type": "fragment"
    }
   },
   "source": [
    "For such surves we define the **unit tangent vector** $$\\vec T(t) = \\frac{\\vec r'(t)}{|\\vec r'(t)|}.$$"
   ]
  },
  {
   "cell_type": "code",
   "execution_count": 91,
   "metadata": {
    "hide_input": true,
    "jupyter": {
     "source_hidden": true
    },
    "slideshow": {
     "slide_type": "fragment"
    }
   },
   "outputs": [
    {
     "data": {
      "application/vnd.jupyter.widget-view+json": {
       "model_id": "c2a188d8127c4343aca71e64ecb63088",
       "version_major": 2,
       "version_minor": 0
      },
      "text/plain": [
       "interactive(children=(FloatSlider(value=0.0, description='h', max=1.0, min=-1.0, step=0.05), Output()), _dom_c…"
      ]
     },
     "metadata": {},
     "output_type": "display_data"
    }
   ],
   "source": [
    "r = lambda t: np.array([t**2,t**3])\n",
    "dr = lambda t: np.array([2*t,3*t**2])\n",
    "\n",
    "\n",
    "@interact\n",
    "def _(h=(-1,1,.05)):\n",
    "    fig = plt.figure(figsize = (7.5,4.5))\n",
    "    ax = fig.add_subplot(111)\n",
    "    s = np.linspace(-1,1,300)\n",
    "    ax.set_autoscale_on(True)\n",
    "    for c in 'xy':\n",
    "        getattr(ax,f\"set_{c}label\")(f\"${c}$\",size=16)\n",
    "    X,Y = np.column_stack([r(x) for x in s])\n",
    "    # make axes lines\n",
    "    ax.plot(X,Y,alpha=1,lw=3);\n",
    "    ax.plot([-1,1],[0,0],'k')\n",
    "    ax.plot([0,0],[-1,1],'k')\n",
    "    ax.set_title(\"Differentiable but not smooth\")\n",
    "    v = r(h)-r(0)\n",
    "    ax.quiver(r(h)[0],r(h)[1],h!=0 and dr(h)[0]/np.linalg.norm(dr(h)) or 0,h!=0 and dr(h)[1]/np.linalg.norm(dr(h)) or 0,angles='xy', scale_units='xy', scale=1)"
   ]
  },
  {
   "cell_type": "code",
   "execution_count": null,
   "metadata": {},
   "outputs": [],
   "source": []
  },
  {
   "cell_type": "markdown",
   "metadata": {
    "slideshow": {
     "slide_type": "slide"
    }
   },
   "source": [
    "# Motion in Space\n",
    "\n",
    "A fundamental application of vector-valued function is describing motion in space. Suppose the **position** of a particle in space at time $t$ is given by $\\vec r(t)$. Its derivative $\\vec r'(t) = \\vec v(t)$ is called the **velocity**, and its second derivative $\\vec r''(t) = \\vec a(t)$ is the **acceleration**. \n",
    "\n",
    "$$\\vec a(t) = \\vec v'(t) = \\vec r''(t) $$\n",
    "\n",
    "**Speed** is the magnitude of velocity $v = |\\vec v(t)|$.\n",
    "\n",
    "You are likely familiar with Newton's Second Law of motion $$\\vec F = m \\,\\vec a.$$\n",
    "\n"
   ]
  },
  {
   "cell_type": "code",
   "execution_count": 90,
   "metadata": {
    "hide_input": true,
    "jupyter": {
     "source_hidden": true
    },
    "slideshow": {
     "slide_type": "fragment"
    }
   },
   "outputs": [
    {
     "data": {
      "application/vnd.jupyter.widget-view+json": {
       "model_id": "d9963335dec045558bf2100c9e851aae",
       "version_major": 2,
       "version_minor": 0
      },
      "text/plain": [
       "interactive(children=(FloatSlider(value=0.0, description='t', max=1.0, min=-1.0, step=0.05), Dropdown(descript…"
      ]
     },
     "metadata": {},
     "output_type": "display_data"
    }
   ],
   "source": [
    "r1 = lambda t: np.array([t,t**2,t**3])\n",
    "r2 = lambda t: np.array([cos(2*pi*t),sin(2*pi*t),t])\n",
    "r3 = lambda t: np.array([cos(8*pi*t),sin(3*pi*t),sin(7*pi*t)])\n",
    "\n",
    "@interact\n",
    "def _(t=(-1,1,.05),r={\"twist\":r1, \"helix\": r2, \"wacky\": r3},angle=(-90,120,6),vangle=(0,90,6),osculating_plane=False\n",
    "     ):\n",
    "    fig = plt.figure(figsize = (8,8))\n",
    "    ax = fig.add_subplot(111,projection='3d')\n",
    "    s = np.linspace(-1,1,300)\n",
    "    ax.view_init(vangle, angle)\n",
    "    ax.set_autoscale_on(True)\n",
    "    for c in 'xyz':\n",
    "        getattr(ax,f\"set_{c}lim\")([-1,1]);    \n",
    "        getattr(ax,f\"set_{c}label\")(f\"${c}$\",size=16)\n",
    "    X,Y,Z = np.column_stack([r(x) for x in s])\n",
    "    # make axes lines\n",
    "    ax.plot([-1,1],[0,0],[0,0],'k')\n",
    "    ax.plot([0,0],[-1,1],[0,0],'k')\n",
    "    ax.plot([0,0],[0,0],[-1,1],'k')\n",
    "    ax.plot(X,Y,Z,alpha=1,lw=3);\n",
    "    ax.quiver(0,0,0,r(t)[0],r(t)[1],r(t)[2])\n",
    "    v = (r(t+.004) - r(t-.004))*250\n",
    "    v = v/norm(v) # scale for visibility only\n",
    "    ax.quiver(r(t)[0],r(t)[1],r(t)[2],v[0],v[1],v[2],color=\"green\")\n",
    "    a = (r(t+.004) - r(t)*2 + r(t-.004))*250**2\n",
    "    a = a/norm(a) # scale for visibility only\n",
    "    ax.quiver(r(t)[0],r(t)[1],r(t)[2],a[0],a[1],a[2],color=\"red\")\n",
    "    if osculating_plane:\n",
    "#         verts=[r(t) + v + a,r(t) + v - a,r(t) - v - a]\n",
    "#         ax.add_collection3d(Poly3DCollection(verts,alpha=.3))\n",
    "#         verts=[r(t) + v + a,r(t) - v - a,r(t) - v + a]\n",
    "#         ax.add_collection3d(Poly3DCollection(verts,alpha=.3))\n",
    "        xs,ys,zs = np.column_stack([r(t) + v + a,r(t) + v - a,r(t) - v + a,r(t) - v - a])\n",
    "        ax.plot_surface(xs.reshape(2,2),ys.reshape(2,2),zs.reshape(2,2),alpha=.3,zorder=.6)"
   ]
  },
  {
   "cell_type": "markdown",
   "metadata": {},
   "source": [
    "<p style=\"padding-bottom:40%;\"> </p>"
   ]
  },
  {
   "cell_type": "markdown",
   "metadata": {},
   "source": [
    "## Examples\n",
    "\n",
    "  1. Show that any moving particle that changes direction has a nonzero acceleration.\n",
    "  2. Is the converse true (i.e., a particle with nonzero acceleration must change direction?"
   ]
  },
  {
   "cell_type": "markdown",
   "metadata": {},
   "source": [
    "<p style=\"padding-bottom:40%;\"> </p>"
   ]
  },
  {
   "cell_type": "markdown",
   "metadata": {},
   "source": [
    "So, differentiation moves us \"down\" the list from position to velocity to acceleration. Then, of course, integration moves us back \"up\". "
   ]
  },
  {
   "cell_type": "markdown",
   "metadata": {
    "slideshow": {
     "slide_type": "slide"
    }
   },
   "source": [
    "## Integration\n",
    "\n",
    "Integrals are limits of sums. Vectors can be added and scaled, so this definition also goes right through, though the interpretation is less clear.\n",
    "\n",
    "$$\\int_a^b \\vec r(t)\\,dt = \\lim_{N\\to\\infty} \\sum_{i=1}^N \\vec r(t_i^*) \\,\\Delta t$$"
   ]
  },
  {
   "cell_type": "markdown",
   "metadata": {
    "slideshow": {
     "slide_type": "fragment"
    }
   },
   "source": [
    "$$ = \\left\\langle \\int_a^b x(t)\\,dt, \\int_a^b y(t)\\,dt ,\\int_a^b z(t)\\,dt \\right\\rangle$$ in components. "
   ]
  },
  {
   "cell_type": "markdown",
   "metadata": {
    "slideshow": {
     "slide_type": "fragment"
    }
   },
   "source": [
    "## Fundamental Theorem\n",
    "\n",
    "$$\\vec r(t) = \\vec r(a) + \\int_a^t \\vec r'(\\tau)\\,d\\tau$$  "
   ]
  },
  {
   "cell_type": "markdown",
   "metadata": {},
   "source": [
    "## Example\n",
    "\n",
    "Find the \"range formula\". That is, find the distance away an object launched from the ground with speed $v_0$ at an angle $\\theta$ will land. \n",
    "\n",
    "Leave gravitational acceleration as a constant $g$."
   ]
  },
  {
   "cell_type": "code",
   "execution_count": 92,
   "metadata": {
    "hide_input": true,
    "jupyter": {
     "source_hidden": true
    },
    "slideshow": {
     "slide_type": "skip"
    }
   },
   "outputs": [
    {
     "data": {
      "application/vnd.jupyter.widget-view+json": {
       "model_id": "414e978b033b40829fc3cc551eddd5e0",
       "version_major": 2,
       "version_minor": 0
      },
      "text/plain": [
       "interactive(children=(FloatSlider(value=0.7853981633974483, description='alpha', max=1.5707963267948966), IntS…"
      ]
     },
     "metadata": {},
     "output_type": "display_data"
    }
   ],
   "source": [
    "# range of a projectile launched from the ground with angle alpha and speed v ft/sec\n",
    "\n",
    "@interact\n",
    "def _(alpha = (0,pi/2),v=(0,100)):\n",
    "    x=np.linspace(0,10,101)\n",
    "    plt.figure(figsize=(7,7))\n",
    "    plt.plot(v*cos(alpha)*x,v*sin(alpha)*x-32*x**2/2)\n",
    "    plt.ylim([0,160])\n",
    "    plt.xlim([0,350])"
   ]
  },
  {
   "cell_type": "markdown",
   "metadata": {},
   "source": [
    "<p style=\"padding-bottom:40%;\"> </p>"
   ]
  },
  {
   "cell_type": "markdown",
   "metadata": {
    "slideshow": {
     "slide_type": "subslide"
    }
   },
   "source": [
    "## Example\n",
    "\n",
    "A particle initially at rest at the origin is subjected to an acceleration $$\\vec a(t) = \\begin{cases} \\vec i -  t\\,\\vec j, & t\\leq 6 \\\\ \\vec 0, & t > 6 \\end{cases}.$$ Find its position at $t=10$."
   ]
  },
  {
   "cell_type": "code",
   "execution_count": 9,
   "metadata": {
    "collapsed": true,
    "hide_input": true,
    "jupyter": {
     "outputs_hidden": true,
     "source_hidden": true
    },
    "slideshow": {
     "slide_type": "fragment"
    }
   },
   "outputs": [
    {
     "data": {
      "image/png": "[encoded data removed]",
      "text/plain": [
       "<Figure size 576x576 with 1 Axes>"
      ]
     },
     "metadata": {
      "needs_background": "light"
     },
     "output_type": "display_data"
    }
   ],
   "source": [
    "t = np.linspace(0,6,201)\n",
    "plt.plot(1/2*t**2,-t**3/6)\n",
    "t = np.linspace(6,10,201)\n",
    "plt.plot(1/2*t**2,-t**3/6,'--')\n",
    "plt.plot(18 + 6*(t-6),-36 - 18*(t-6),'-');\n"
   ]
  }
 ],
 "metadata": {
  "celltoolbar": "Slideshow",
  "kernelspec": {
   "display_name": "Python 3",
   "language": "python",
   "name": "python3"
  },
  "language_info": {
   "codemirror_mode": {
    "name": "ipython",
    "version": 3
   },
   "file_extension": ".py",
   "mimetype": "text/x-python",
   "name": "python",
   "nbconvert_exporter": "python",
   "pygments_lexer": "ipython3",
   "version": "3.7.6"
  },
  "rise": {
   "enable_chalkboard": true,
   "scroll": true,
   "theme": "sky",
   "transition": "concave"
  }
 },
 "nbformat": 4,
 "nbformat_minor": 4
}
