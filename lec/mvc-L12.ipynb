{
 "cells": [
  {
   "cell_type": "code",
   "execution_count": 14,
   "metadata": {
    "slideshow": {
     "slide_type": "skip"
    }
   },
   "outputs": [],
   "source": [
    "import numpy as np\n",
    "import matplotlib.pyplot as plt\n",
    "from IPython.display import display, HTML, IFrame\n",
    "from ipywidgets import interact,fixed\n",
    "import pandas as pd\n",
    "from mpl_toolkits import mplot3d\n",
    "\n",
    "plt.rcParams[\"figure.figsize\"] = [7, 7]\n",
    "\n",
    "from numpy.linalg import norm\n",
    "from numpy import cos,sin,tan,arctan,exp,log,pi,sqrt,linspace,meshgrid,array, arange"
   ]
  },
  {
   "cell_type": "markdown",
   "metadata": {
    "slideshow": {
     "slide_type": "notes"
    }
   },
   "source": [
    "$\\newcommand{\\RR}{\\mathbb{R}}$\n",
    "$\\newcommand{\\bv}[1]{\\begin{bmatrix} #1 \\end{bmatrix}}$\n",
    "$\\renewcommand{\\vec}{\\mathbf}$\n"
   ]
  },
  {
   "cell_type": "markdown",
   "metadata": {
    "hide_input": true,
    "slideshow": {
     "slide_type": "slide"
    }
   },
   "source": [
    "## Announcements\n",
    "\n",
    "  - Quiz 5 this week. \n",
    "    - Directional derivatives\n",
    "    - 3 properties of $\\nabla f$\n",
    "  - Homework 7 due next Tuesday \n",
    "    "
   ]
  },
  {
   "cell_type": "markdown",
   "metadata": {
    "slideshow": {
     "slide_type": "slide"
    }
   },
   "source": [
    "# One-minute Review\n",
    "\n",
    "The **directional derivative** of a differentiable function $f$ in the direction of unit vector $\\vec u$ at $\\vec x$ is\n",
    "$$D_{\\vec u} f(\\vec x) = \\lim_{h\\to 0}\\frac{f(\\vec x+h\\vec u) - f(\\vec x)}{h} = \\nabla f(\\vec x)\\cdot\\vec u.$$\n",
    "\n",
    "3 important properties:\n",
    "  - $\\nabla f$ is orthogonal to level sets.\n",
    "  - $\\nabla f$ points in the direction of greatest change.\n",
    "  - $|\\nabla f|$ is the amount of greatest change."
   ]
  },
  {
   "cell_type": "markdown",
   "metadata": {},
   "source": [
    "<p style=\"padding-bottom:40%;\"> </p>"
   ]
  },
  {
   "cell_type": "markdown",
   "metadata": {
    "slideshow": {
     "slide_type": "slide"
    }
   },
   "source": [
    "# Lecture 12\n",
    "\n",
    "  - Objectives\n",
    "    - Define local minima/maxima.\n",
    "    - Classify critical points using the second derivative test.\n",
    "    - Solve unconstrained optimization problems\n",
    "    \n",
    "  - Resources\n",
    "    - Content\n",
    "      - Stewart: §14.7\n",
    "      - New Strang: [§4.7](https://openstax.org/books/calculus-volume-3/pages/4-7-maxima-minima-problems)\n",
    "      - [Slides](https://e2000.columbiajupyter2.org/hub/user-redirect/git-pull?repo=https%3A%2F%2Fgithub.com%2Fdrewyoungren%2Fmvc-sp20&urlpath=tree%2Fmvc-sp20%2Fslide_notebooks%2Fmvc-L12.ipynb) via JupyterHub\n",
    "    - Practice\n",
    "      - Mooculus: [Minima and Maxima](https://ximera.osu.edu/mooculus/calculus3/maximumsAndMinimumsOfFunctionsOfSeveralVariables/digInMaximaAndMinima)\n",
    "    - Extras\n",
    "      - CalcBLUE: [Critical Points](https://youtu.be/J1HS6hmBtC0) "
   ]
  },
  {
   "cell_type": "markdown",
   "metadata": {
    "slideshow": {
     "slide_type": "slide"
    }
   },
   "source": [
    "# Warm-up\n",
    "\n",
    "<strike>Stand up if you are as tall or taller than all the people sitting one seat away from you. </strike>\n",
    "\n"
   ]
  },
  {
   "cell_type": "markdown",
   "metadata": {},
   "source": [
    "<p style=\"padding-bottom:40%;\"> </p>"
   ]
  },
  {
   "cell_type": "markdown",
   "metadata": {
    "slideshow": {
     "slide_type": "subslide"
    }
   },
   "source": [
    "## Definitions\n",
    "\n",
    "A **local maximum** (resp. **minimum**) of a function occurs at a point with position $\\vec x_0$ if there is a radius $r>0$ such that for all $\\vec y$ where $|\\vec x_0 - \\vec y| < r$ $$f(\\vec x_0) \\geq f(\\vec y)$$ \n",
    "\n",
    "$$({\\rm resp. }f(\\vec x_0) \\leq f(\\vec y)).$$"
   ]
  },
  {
   "cell_type": "markdown",
   "metadata": {
    "slideshow": {
     "slide_type": "subslide"
    }
   },
   "source": [
    "A **global maximum** (resp. **minimum**) of a function occurs at a point with position $\\vec x_0$ if for all $\\vec y$ in the domain of $f$. \n",
    "\n",
    "$$f(\\vec x_0) \\geq f(\\vec y)$$ \n",
    "\n",
    "$$({\\rm resp. }f(\\vec x_0) \\leq f(\\vec y)).$$"
   ]
  },
  {
   "cell_type": "markdown",
   "metadata": {},
   "source": [
    "<p style=\"padding-bottom:40%;\"> </p>"
   ]
  },
  {
   "cell_type": "markdown",
   "metadata": {
    "slideshow": {
     "slide_type": "fragment"
    }
   },
   "source": [
    "![Local pizza max](https://images.squarespace-cdn.com/content/5a451092c027d82d5c32ce60/1514907511830-4JHEGBXRD4D7SX2HG0V1/BestPizzaOnTheBlock.jpg?content-type=image%2Fjpeg)"
   ]
  },
  {
   "cell_type": "markdown",
   "metadata": {
    "slideshow": {
     "slide_type": "fragment"
    }
   },
   "source": [
    "Note: The local maximum/minimum is actually the _output_ value $f(\\vec x_0)$, a scalar, not the location at which it occurs. "
   ]
  },
  {
   "cell_type": "markdown",
   "metadata": {
    "slideshow": {
     "slide_type": "subslide"
    }
   },
   "source": [
    "A **critical point** $\\vec x$ of a function $f$ is a point in the domain at which the function is not differentiable or $\\nabla f(\\vec x) = \\vec 0$."
   ]
  },
  {
   "cell_type": "markdown",
   "metadata": {},
   "source": [
    "<p style=\"padding-bottom:40%;\"> </p>"
   ]
  },
  {
   "cell_type": "markdown",
   "metadata": {
    "slideshow": {
     "slide_type": "subslide"
    }
   },
   "source": [
    "## Three Surfaces\n",
    "\n",
    "At the critical point $(0,0)$, the function given by \n",
    "\n",
    "  - $1 - x^2 - y^2$ has a local maximum.\n",
    "  - $x^2 + y^2$ has a local minimum.\n",
    "  - $y^2 - x^2$ has a **saddle point** (critical point at which $f$ does not have a local min or max)."
   ]
  },
  {
   "cell_type": "code",
   "execution_count": 5,
   "metadata": {
    "hide_input": true,
    "jupyter": {
     "source_hidden": true
    },
    "slideshow": {
     "slide_type": "fragment"
    }
   },
   "outputs": [
    {
     "data": {
      "application/vnd.jupyter.widget-view+json": {
       "model_id": "f30b407f909946b39df92430cd062d48",
       "version_major": 2,
       "version_minor": 0
      },
      "text/plain": [
       "interactive(children=(Dropdown(description='func', options={'max': <function <lambda> at 0x7f8b0f6ab950>, 'min…"
      ]
     },
     "metadata": {},
     "output_type": "display_data"
    }
   ],
   "source": [
    "f = lambda x,y: 1-y**2-x**2\n",
    "g = lambda x,y: y**2+x**2\n",
    "h = lambda x,y: y**2-x**2\n",
    "\n",
    "@interact\n",
    "def _(func={\"max\": f,\"min\":g,\"saddle\":h},angle=(-90,120,6),vangle=(0,90,6)):\n",
    "    fig = plt.figure(figsize = (12,6))\n",
    "    ax = fig.add_subplot(121,projection='3d')\n",
    "    ax.view_init(vangle,angle)\n",
    "    for c in 'xyz':\n",
    "#         getattr(ax,f\"set_{c}lim\")([-1,1]);    \n",
    "        getattr(ax,f\"set_{c}label\")(f\"${c}$\",size=16)\n",
    "    x =  np.linspace(-3/2,3/2,601)\n",
    "    y =  np.linspace(-3/2,3/2,301)    \n",
    "    X,Y = np.meshgrid(x,y)\n",
    "    Z = func(X,Y)\n",
    "    ax.plot_surface(X,Y,Z,alpha=.6,cmap='ocean',rcount=50,ccount=50);\n",
    "#     ax.quiver([1,1],[0,0],[0,0],[-2/exp(1),-1/sqrt(2)],[1/exp(1),1/sqrt(2)],[0,0],lw=3,color='r',alpha=1)\n",
    "    ax2 = fig.add_subplot(122)\n",
    "    cp = ax2.contour(X,Y,Z,cmap='ocean',levels = 12)\n",
    "    ax2.set_xlabel(\"$x$\",size=16)\n",
    "    ax2.set_ylabel(\"$y$\",size=16)\n",
    "    ax2.clabel(cp,fmt=\"%.1f\")\n",
    "    xx =yy = np.linspace(-3/2,3/2,20)\n",
    "    xx,yy = np.meshgrid(xx,yy)\n",
    "    ax2.quiver(xx,yy,func(xx+.01,yy)-func(xx,yy),func(xx,yy+.01)-func(xx,yy),lw=3,alpha=1)\n"
   ]
  },
  {
   "cell_type": "markdown",
   "metadata": {
    "slideshow": {
     "slide_type": "subslide"
    }
   },
   "source": [
    "### Examples\n",
    "\n",
    "For each plot below, sketch the gradient field, identify critical points, and mark them as having a local max, local min, or neither. "
   ]
  },
  {
   "cell_type": "code",
   "execution_count": 6,
   "metadata": {
    "hide_input": true,
    "jupyter": {
     "source_hidden": true
    },
    "slideshow": {
     "slide_type": "fragment"
    }
   },
   "outputs": [
    {
     "data": {
      "application/vnd.jupyter.widget-view+json": {
       "model_id": "961a0e133f9f49e980f0c11e4e359d94",
       "version_major": 2,
       "version_minor": 0
      },
      "text/plain": [
       "interactive(children=(Dropdown(description='func', options={'f': <function <lambda> at 0x7f8b13105680>, 'g': <…"
      ]
     },
     "metadata": {},
     "output_type": "display_data"
    }
   ],
   "source": [
    "f = lambda x,y: 20*exp(-(x**2 + y**2)) - 15* exp(-2 *((x - 1)**2 + (y - 3/4)**2)) - 18 *exp(-2 *((x - 1)**2 + (y + 1/2)**2))\n",
    "g = lambda x,y: 10*x**2\n",
    "h = lambda x,y: 20*((x - 1)**2 - y**2/2) \n",
    "k = lambda x,y: 20*exp(-1/2*((x - 1/4)**2 + (y + 1/3)**2))*sin(5*x)*cos(7*y)\n",
    "\n",
    "@interact\n",
    "def _(func={\"f\": f,\"g\":g,\"h\":h,\"k\":k},angle=(-170,0,6),vangle=(0,90,6),grad=False,surf=False,):\n",
    "    fig = plt.figure(figsize = (12,6))\n",
    "    ax = fig.add_subplot(122,projection='3d')\n",
    "    ax.view_init(vangle,angle)\n",
    "    for c in 'xyz':\n",
    "#         getattr(ax,f\"set_{c}lim\")([-1,1]);    \n",
    "        getattr(ax,f\"set_{c}label\")(f\"${c}$\",size=16)\n",
    "    x =  np.linspace(-3/2,3/2,601)\n",
    "    y =  np.linspace(-3/2,3/2,301)    \n",
    "    X,Y = np.meshgrid(x,y)\n",
    "    Z = func(X,Y)\n",
    "    if surf:\n",
    "        ax.plot_surface(X,Y,Z,alpha=.9,cmap='ocean',rcount=70,ccount=70);\n",
    "#     ax.quiver([1,1],[0,0],[0,0],[-2/exp(1),-1/sqrt(2)],[1/exp(1),1/sqrt(2)],[0,0],lw=3,color='r',alpha=1)\n",
    "    ax2 = fig.add_subplot(121)\n",
    "    cp = ax2.contour(X,Y,Z,cmap='ocean',levels = 12)\n",
    "    ax2.set_xlabel(\"$x$\",size=16)\n",
    "    ax2.set_ylabel(\"$y$\",size=16)\n",
    "    ax2.clabel(cp,fmt=\"%.1f\")\n",
    "    xx =yy = np.linspace(-3/2,3/2,20)\n",
    "    xx,yy = np.meshgrid(xx,yy)\n",
    "    if grad: \n",
    "        ax2.quiver(xx,yy,func(xx+.01,yy)-func(xx,yy),func(xx,yy+.01)-func(xx,yy),lw=3,alpha=1)\n"
   ]
  },
  {
   "cell_type": "markdown",
   "metadata": {},
   "source": [
    "<p style=\"padding-bottom:40%;\"> </p>"
   ]
  },
  {
   "cell_type": "markdown",
   "metadata": {
    "slideshow": {
     "slide_type": "slide"
    }
   },
   "source": [
    "## Exercise\n",
    "\n",
    "Find all critical points of the function below.\n",
    "\n",
    "$$f(x,y) = x^4+y^4-4x y+1$$"
   ]
  },
  {
   "cell_type": "markdown",
   "metadata": {},
   "source": [
    "<p style=\"padding-bottom:40%;\"> </p>"
   ]
  },
  {
   "cell_type": "markdown",
   "metadata": {
    "slideshow": {
     "slide_type": "slide"
    }
   },
   "source": [
    "## Recall\n",
    "\n",
    "In one-variable calculus, how did one determine if a critical point held a local min, local max or neither?"
   ]
  },
  {
   "cell_type": "code",
   "execution_count": 15,
   "metadata": {
    "hide_input": true,
    "jupyter": {
     "source_hidden": true
    },
    "slideshow": {
     "slide_type": "fragment"
    }
   },
   "outputs": [
    {
     "data": {
      "image/png": "[encoded data removed]",
      "text/plain": [
       "<Figure size 504x504 with 1 Axes>"
      ]
     },
     "metadata": {
      "needs_background": "light"
     },
     "output_type": "display_data"
    }
   ],
   "source": [
    "x = np.linspace(-1.1,1.1)\n",
    "plt.plot([-1.1,1.1],[0,0],'k')\n",
    "plt.plot(x,x**5-x**3);"
   ]
  },
  {
   "cell_type": "markdown",
   "metadata": {},
   "source": [
    "<p style=\"padding-bottom:40%;\"> </p>"
   ]
  },
  {
   "cell_type": "markdown",
   "metadata": {
    "slideshow": {
     "slide_type": "subslide"
    }
   },
   "source": [
    "## The Second Derivative Test\n",
    "\n",
    "If all 2nd order partials of $f(x,y)$ are continuous in the neighborhood of a critical point $(a,b)$, then let \n",
    "$$ D = f_{xx}(a,b)f_{yy}(a,b) - (f_{xy}(a,b))^2  = \n",
    "\\begin{vmatrix} \n",
    "\\frac{\\partial ^2 f}{\\partial x^2} & \\frac{\\partial ^2 f}{\\partial y \\partial x} \\\\\n",
    "\\frac{\\partial ^2 f}{\\partial x \\partial y} & \\frac{\\partial ^2 f}{\\partial y^2} \n",
    "\\end{vmatrix}$$\n",
    "\n",
    "Then, \n",
    "  - if $D>0$ and $f_{xx} < 0$, $f(a,b)$ is a local maximum.\n",
    "  - if $D>0$ and $f_{xx} > 0$, $f(a,b)$ is a local minimum.\n",
    "  - if $D<0$, $(a,b)$ is a saddle point. \n",
    "\n",
    "Otherwise, the test is inconclusive."
   ]
  },
  {
   "cell_type": "markdown",
   "metadata": {},
   "source": [
    "<p style=\"padding-bottom:40%;\"> </p>"
   ]
  },
  {
   "cell_type": "markdown",
   "metadata": {
    "slideshow": {
     "slide_type": "subslide"
    }
   },
   "source": [
    "## How does it work?\n",
    "\n",
    "Consider the \"concavity\" of the function along the \"line with slope $m$\": $$\\vec r(t) = \\langle t, m t\\rangle.$$\n",
    "\n",
    "Compute $\\frac{d^2}{dt^2}f \\circ r(t)$. "
   ]
  },
  {
   "cell_type": "code",
   "execution_count": 41,
   "metadata": {
    "hide_input": true,
    "slideshow": {
     "slide_type": "fragment"
    }
   },
   "outputs": [
    {
     "data": {
      "application/vnd.jupyter.widget-view+json": {
       "model_id": "c62f1fbd397c439d9162b326b30a38d7",
       "version_major": 2,
       "version_minor": 0
      },
      "text/plain": [
       "interactive(children=(Dropdown(description='func', options={'max': <function <lambda> at 0x7f8b11255320>, 'min…"
      ]
     },
     "metadata": {},
     "output_type": "display_data"
    }
   ],
   "source": [
    "f = lambda x,y: 1-y**2-x**2\n",
    "g = lambda x,y: y**2+x**2\n",
    "h = lambda x,y: y**2-x**2\n",
    "\n",
    "@interact\n",
    "def _(func={\"max\": f,\"min\":g,\"saddle\":h},angle=(-170,0,6),vangle=(0,90,6),m=(-2.01234,2.12)):\n",
    "    fig = plt.figure(figsize = (12,6))\n",
    "    ax = fig.add_subplot(121,projection='3d')\n",
    "    ax.view_init(vangle,angle)\n",
    "    for c in 'xyz':\n",
    "#         getattr(ax,f\"set_{c}lim\")([-1,1]);    \n",
    "        getattr(ax,f\"set_{c}label\")(f\"${c}$\",size=16)\n",
    "    x =  np.linspace(-3/2,3/2,601)\n",
    "    y =  np.linspace(-3/2,3/2,301)    \n",
    "    X,Y = np.meshgrid(x,y)\n",
    "    Z = func(X,Y)\n",
    "    ax.plot_surface(X,Y,Z,alpha=.6,cmap='ocean',rcount=50,ccount=50);\n",
    "    tsize = min(1.5,np.abs(1.5/m))\n",
    "    t = np.linspace(-tsize,tsize,20)\n",
    "    ax.plot(t,m*t,func(t,m*t),lw=3,color='r')\n",
    "#     ax.quiver([1,1],[0,0],[0,0],[-2/exp(1),-1/sqrt(2)],[1/exp(1),1/sqrt(2)],[0,0],lw=3,color='r',alpha=1)\n",
    "    ax2 = fig.add_subplot(122)\n",
    "    cp = ax2.contour(X,Y,Z,cmap='ocean',levels = 12)\n",
    "    ax2.set_xlabel(\"$x$\",size=16)\n",
    "    ax2.set_ylabel(\"$y$\",size=16)\n",
    "    ax2.clabel(cp,fmt=\"%.1f\")\n",
    "    xx =yy = np.linspace(-3/2,3/2,20)\n",
    "    xx,yy = np.meshgrid(xx,yy)\n",
    "    ax2.quiver(xx,yy,func(xx+.01,yy)-func(xx,yy),func(xx,yy+.01)-func(xx,yy),lw=3,alpha=1)\n",
    "    ax2.plot(t,m*t,lw=3,color='r')\n",
    "\n"
   ]
  },
  {
   "cell_type": "markdown",
   "metadata": {},
   "source": [
    "<p style=\"padding-bottom:40%;\"> </p>"
   ]
  },
  {
   "cell_type": "markdown",
   "metadata": {
    "slideshow": {
     "slide_type": "subslide"
    }
   },
   "source": [
    "## Exercise\n",
    "\n",
    "Use the second derivative test to classify the critical points $(-1,-1)$,$(0,0)$, and $(1,1)$ in the example above.\n",
    "\n",
    "$$f(x,y) = x^4+y^4-4x y+1$$"
   ]
  },
  {
   "cell_type": "code",
   "execution_count": 9,
   "metadata": {
    "hide_input": true,
    "jupyter": {
     "source_hidden": true
    },
    "slideshow": {
     "slide_type": "fragment"
    }
   },
   "outputs": [
    {
     "data": {
      "application/vnd.jupyter.widget-view+json": {
       "model_id": "bb743178bf4741b3be4d00130dee1cf2",
       "version_major": 2,
       "version_minor": 0
      },
      "text/plain": [
       "interactive(children=(IntSlider(value=-86, description='angle', max=0, min=-170, step=6), IntSlider(value=42, …"
      ]
     },
     "metadata": {},
     "output_type": "display_data"
    }
   ],
   "source": [
    "f = lambda x,y: x**4+y**4-4*x *y+1\n",
    "\n",
    "@interact\n",
    "def _(func=fixed(f),angle=(-170,0,6),vangle=(0,90,6),grad=False,surf=False,):\n",
    "    fig = plt.figure(figsize = (12,6))\n",
    "    ax = fig.add_subplot(122,projection='3d')\n",
    "    ax.view_init(vangle,angle)\n",
    "    for c in 'xyz':\n",
    "#         getattr(ax,f\"set_{c}lim\")([-1,1]);    \n",
    "        getattr(ax,f\"set_{c}label\")(f\"${c}$\",size=16)\n",
    "    x =  np.linspace(-3/2,3/2,601)\n",
    "    y =  np.linspace(-3/2,3/2,301)    \n",
    "    X,Y = np.meshgrid(x,y)\n",
    "    Z = func(X,Y)\n",
    "    if surf:\n",
    "        ax.plot_surface(X,Y,Z,alpha=.9,cmap='ocean',rcount=70,ccount=70);\n",
    "#     ax.quiver([1,1],[0,0],[0,0],[-2/exp(1),-1/sqrt(2)],[1/exp(1),1/sqrt(2)],[0,0],lw=3,color='r',alpha=1)\n",
    "    ax2 = fig.add_subplot(121)\n",
    "    cp = ax2.contour(X,Y,Z,cmap='ocean',levels = 25)\n",
    "    ax2.set_xlabel(\"$x$\",size=16)\n",
    "    ax2.set_ylabel(\"$y$\",size=16)\n",
    "    ax2.clabel(cp,fmt=\"%.1f\")\n",
    "    ax.set_zlim3d([-1,6])\n",
    "    xx =yy = np.linspace(-3/2,3/2,20)\n",
    "    xx,yy = np.meshgrid(xx,yy)\n",
    "    if grad: \n",
    "        ax2.quiver(xx,yy,func(xx+.01,yy)-func(xx,yy),func(xx,yy+.01)-func(xx,yy),lw=3,alpha=1)\n"
   ]
  },
  {
   "cell_type": "markdown",
   "metadata": {},
   "source": [
    "<p style=\"padding-bottom:40%;\"> </p>"
   ]
  },
  {
   "cell_type": "markdown",
   "metadata": {
    "slideshow": {
     "slide_type": "slide"
    }
   },
   "source": [
    "# A (very) little topology"
   ]
  },
  {
   "cell_type": "markdown",
   "metadata": {
    "slideshow": {
     "slide_type": "fragment"
    }
   },
   "source": [
    "Let $S$ be a set in $\\RR^n$ and $\\vec p$ be the position of a point in it.  (We can be lazy and say $\\vec p \\in S$.)\n",
    "\n",
    "$\\vec p$ is an **interior point** of $S$ if there exists a positive radius $r>0$ such that for all $|\\vec y - \\vec p| < r$, $\\vec y \\in S$.\n",
    "\n",
    "$\\vec p$ is a **boundary point** of $S$ if for every $r>0$, there are points $\\vec y_1$ and $\\vec y_2$ with $|\\vec y_i - \\vec p| < r$ such that $\\vec y_1 \\in S$ and $\\vec y_2 \\notin S$."
   ]
  },
  {
   "cell_type": "markdown",
   "metadata": {},
   "source": [
    "<p style=\"padding-bottom:40%;\"> </p>"
   ]
  },
  {
   "cell_type": "markdown",
   "metadata": {
    "slideshow": {
     "slide_type": "fragment"
    }
   },
   "source": [
    "#### Quick Example\n",
    "\n",
    "Let $S\\subset \\RR^2$ be the unit disk. $\\left(1/2,\\sqrt{3}/2\\right)$ is a boundary point. $(1/2,1/2)$ is an interior point."
   ]
  },
  {
   "cell_type": "code",
   "execution_count": 12,
   "metadata": {
    "hide_input": true,
    "jupyter": {
     "source_hidden": true
    },
    "slideshow": {
     "slide_type": "fragment"
    }
   },
   "outputs": [
    {
     "data": {
      "image/png": "[encoded data removed]",
      "text/plain": [
       "<Figure size 432x432 with 1 Axes>"
      ]
     },
     "metadata": {
      "needs_background": "light"
     },
     "output_type": "display_data"
    }
   ],
   "source": [
    "t = np.linspace(0,np.pi*2,100)\n",
    "plt.figure(figsize=(6,6))\n",
    "plt.scatter((1/2,1/2),(1/2,sqrt(3)/2))\n",
    "plt.fill(cos(t),sin(t),'k',alpha=.3)\n",
    "plt.plot(cos(t),sin(t),'-k',1/10*cos(t)+1/2,1/10*sin(t)+1/2,'--b')\n",
    "t=np.linspace(-pi/6,5*pi/6,50)\n",
    "plt.plot(1/10*cos(t)+1/2,1/10*sin(t)+sqrt(3)/2,'--r',-1/10*cos(t)+1/2,-1/10*sin(t)+sqrt(3)/2,'--b');"
   ]
  },
  {
   "cell_type": "markdown",
   "metadata": {},
   "source": [
    "<p style=\"padding-bottom:40%;\"> </p>"
   ]
  },
  {
   "cell_type": "markdown",
   "metadata": {
    "slideshow": {
     "slide_type": "subslide"
    }
   },
   "source": [
    "## Definitions \n",
    "\n",
    "A set $S$ is **open** if all points are interior points.\n",
    "\n",
    "A set $S$ is **closed** if it contains all its boundary points."
   ]
  },
  {
   "cell_type": "code",
   "execution_count": 11,
   "metadata": {
    "hide_input": true,
    "jupyter": {
     "source_hidden": true
    },
    "slideshow": {
     "slide_type": "fragment"
    }
   },
   "outputs": [
    {
     "data": {
      "image/png": "[encoded data removed]",
      "text/plain": [
       "<Figure size 864x288 with 1 Axes>"
      ]
     },
     "metadata": {
      "needs_background": "light"
     },
     "output_type": "display_data"
    }
   ],
   "source": [
    "def rr(t):\n",
    "    if pi/2 < t < pi:\n",
    "        return 2/3+1/3*cos(2*t)**2\n",
    "    else:\n",
    "        return 1.\n",
    "\n",
    "rr = np.vectorize(rr)\n",
    "\n",
    "t = np.linspace(0,np.pi*2,100)\n",
    "plt.figure(figsize=(12,4))\n",
    "plt.fill(rr(t)*cos(t),rr(t)*sin(t),'k',alpha=.3)\n",
    "plt.plot(rr(t)*cos(t),rr(t)*sin(t),'-k',2.1+rr(t)*cos(t),rr(t)*sin(t),'--k',lw=3)\n",
    "plt.fill(rr(t)*cos(t)+2.1,rr(t)*sin(t),'k',alpha=.3)\n",
    "plt.fill(rr(t)*cos(t)+2*2.1,rr(t)*sin(t),'k',alpha=.3)\n",
    "t=np.linspace(-pi/6,5*pi/6,50)\n",
    "plt.plot(4.2+rr(t)*cos(t),rr(t)*sin(t),'-k',4.2+rr(t+pi)*cos(t+pi),rr(t+pi)*sin(t+pi),'--k',lw=3);\n",
    "plt.text(2.1,0,\"open\",fontsize=22);\n",
    "plt.text(4.2,0,\"neither\",fontsize=22);\n",
    "plt.text(0,0,\"closed\",fontsize=22);"
   ]
  },
  {
   "cell_type": "markdown",
   "metadata": {},
   "source": [
    "<p style=\"padding-bottom:40%;\"> </p>"
   ]
  },
  {
   "cell_type": "markdown",
   "metadata": {
    "slideshow": {
     "slide_type": "slide"
    }
   },
   "source": [
    "# Optimization\n"
   ]
  },
  {
   "cell_type": "markdown",
   "metadata": {
    "slideshow": {
     "slide_type": "fragment"
    }
   },
   "source": [
    "### Theorem (Fermat, I guess)\n",
    "\n",
    "If a local maximum or minimum of a function $f:D\\to \\RR$ occurs at an interior point $\\vec p$, then $\\vec p$ is a critical point of $f$. "
   ]
  },
  {
   "cell_type": "markdown",
   "metadata": {
    "slideshow": {
     "slide_type": "fragment"
    }
   },
   "source": [
    "### Extreme Value Theorem\n",
    "\n",
    "If $D\\in \\RR^n$ is closed and bounded and $f:D\\to \\RR$ is continuous, then there is an $\\vec x \\in D$ such that $f(\\vec x)$ is the **global maximum**. That is, $f(\\vec y) \\leq f(\\vec x)$.  "
   ]
  },
  {
   "cell_type": "markdown",
   "metadata": {
    "slideshow": {
     "slide_type": "fragment"
    }
   },
   "source": [
    "The same holds for the global minimum, mutatis mutandis. "
   ]
  },
  {
   "cell_type": "code",
   "execution_count": null,
   "metadata": {},
   "outputs": [],
   "source": [
    "@interacct\n",
    "def _(angle=(-126,120,6),vangle=(0,90,6)):\n",
    "    fig = plt.figure(figsize=(7,7))\n",
    "    ax = fig.gca(projection='3d')\n",
    "    th = linspace(0,2*pi,100)\n",
    "    r = linspace(0,1,100)\n",
    "    r,th = meshgrid(r,th)\n",
    "    X = 3/2*r * rr(th-pi/2) *cos(th) + 1/2\n",
    "    Y = 3/2*r * rr(th-pi/2) *sin(th)\n",
    "    Z = X**4 + Y**4 - 4*X*Y - 1\n",
    "    ax.plot_surface(X,Y,0*Z - 1,color='gray',alpha=.3)\n",
    "    ax.plot_surface(X,Y,Z/4,cmap='ocean')\n",
    "    ax.contour(X,Y,Z/4,offset=-1,levels=32,cmap='ocean')\n",
    "    ax.set_zlim(-1,4)\n",
    "    ax.view_init(vangle,angle)"
   ]
  },
  {
   "cell_type": "markdown",
   "metadata": {},
   "source": [
    "<p style=\"padding-bottom:40%;\"> </p>"
   ]
  },
  {
   "cell_type": "markdown",
   "metadata": {
    "slideshow": {
     "slide_type": "subslide"
    }
   },
   "source": [
    "## Consequences\n",
    "\n",
    "When trying to find the absolute extrema of a function $f$ on a set $D$, \n",
    "  - Find all critical points of $f$ in $D$ (unconstrained optimization). \n",
    "  - Find the extremes on the boundary of $D$ (next time)."
   ]
  },
  {
   "cell_type": "markdown",
   "metadata": {
    "slideshow": {
     "slide_type": "slide"
    }
   },
   "source": [
    "## Exercise\n",
    "\n",
    "  Find the point on the plane $z = x -2y + 3$ closest to the origin.\n",
    "  "
   ]
  },
  {
   "cell_type": "code",
   "execution_count": 10,
   "metadata": {
    "hide_input": true,
    "jupyter": {
     "source_hidden": true
    },
    "slideshow": {
     "slide_type": "fragment"
    }
   },
   "outputs": [
    {
     "data": {
      "application/vnd.jupyter.widget-view+json": {
       "model_id": "7dc73b36d2334cf6a4074a01e0857d7e",
       "version_major": 2,
       "version_minor": 0
      },
      "text/plain": [
       "interactive(children=(IntSlider(value=-48, description='angle', max=30, min=-120, step=6), Output()), _dom_cla…"
      ]
     },
     "metadata": {},
     "output_type": "display_data"
    }
   ],
   "source": [
    "@interact\n",
    "def _(angle=(-120,30,6)):\n",
    "    fig= plt.figure(figsize=(8,8),dpi=100)\n",
    "    ax = fig.add_subplot(projection='3d')\n",
    "    x = y = np.linspace(-3/2,3/2,100)\n",
    "    x,y = np.meshgrid(x,y)\n",
    "    ax.view_init(30,angle)\n",
    "    for c in 'xyz':\n",
    "#         getattr(ax,f\"set_{c}lim\")([-1,1]);    \n",
    "        getattr(ax,f\"set_{c}label\")(f\"${c}$\",size=16)\n",
    "    ax.plot_surface(x,y,x - 2*y + 3,alpha=.5,cmap=\"ocean\")\n",
    "    ax.set_zlim3d([0,4])\n",
    "    ax.plot([0,-1/2],[0,1],[0,1/2])\n",
    "    ax.plot([0,0],[0,0],[0,4],'k')\n",
    "    ax.plot([0,0],[-2,2],[0,0],'k')\n",
    "    ax.plot([-2,2],[0,0],[0,0],'k');"
   ]
  }
 ],
 "metadata": {
  "celltoolbar": "Slideshow",
  "kernelspec": {
   "display_name": "Python 3",
   "language": "python",
   "name": "python3"
  },
  "language_info": {
   "codemirror_mode": {
    "name": "ipython",
    "version": 3
   },
   "file_extension": ".py",
   "mimetype": "text/x-python",
   "name": "python",
   "nbconvert_exporter": "python",
   "pygments_lexer": "ipython3",
   "version": "3.7.6"
  },
  "rise": {
   "enable_chalkboard": true,
   "scroll": true,
   "theme": "sky",
   "transition": "concave"
  },
  "widgets": {
   "application/vnd.jupyter.widget-state+json": {
    "state": {},
    "version_major": 2,
    "version_minor": 0
   }
  }
 },
 "nbformat": 4,
 "nbformat_minor": 4
}
